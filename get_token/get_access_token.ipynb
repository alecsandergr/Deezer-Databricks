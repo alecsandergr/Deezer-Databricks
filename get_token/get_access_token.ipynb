{
 "cells": [
  {
   "cell_type": "code",
   "execution_count": 2,
   "metadata": {},
   "outputs": [],
   "source": [
    "import json\n",
    "import urllib.parse\n",
    "import requests"
   ]
  },
  {
   "cell_type": "code",
   "execution_count": 3,
   "metadata": {},
   "outputs": [],
   "source": [
    "with open('deezer_info.json') as f:\n",
    "    deezer_info = json.loads(f.read())\n",
    "\n",
    "API_ID = deezer_info['api_id']\n",
    "REDIRECT_URI = deezer_info['redirect_uri']\n",
    "SECRET_KEY = deezer_info['secret_key']"
   ]
  },
  {
   "cell_type": "code",
   "execution_count": null,
   "metadata": {},
   "outputs": [],
   "source": [
    "auth_url = 'https://connect.deezer.com/oauth/auth.php'\n",
    "params = {\n",
    "    'app_id': API_ID,\n",
    "    \"redirect_uri\": REDIRECT_URI,\n",
    "    \"perms\": \"basic_access,email,listening_history,offline_access\",\n",
    "}\n",
    "\n",
    "auth_url = auth_url + \"?\" + urllib.parse.urlencode(params)\n",
    "print(\"Por favor, visite esta URL para autenticar seu aplicativo:\")\n",
    "print(auth_url)"
   ]
  },
  {
   "cell_type": "code",
   "execution_count": null,
   "metadata": {},
   "outputs": [],
   "source": [
    "code = input('Digite o código obtido, ele pode ser obtido na url da página para a qual a você foi direcionadx: ')\n",
    "token_url = \"https://connect.deezer.com/oauth/access_token.php\"\n",
    "params = {\n",
    "    \"app_id\": API_ID,\n",
    "    \"secret\": SECRET_KEY,\n",
    "    \"code\": code,\n",
    "}\n",
    "\n",
    "response = requests.get(token_url, params=params)\n",
    "access_token = response.text.split(\"=\")[1].split('&')[0]\n",
    "print(\"Token de acesso obtido:\", access_token)"
   ]
  }
 ],
 "metadata": {
  "kernelspec": {
   "display_name": "deezer_api-venv",
   "language": "python",
   "name": "python3"
  },
  "language_info": {
   "codemirror_mode": {
    "name": "ipython",
    "version": 3
   },
   "file_extension": ".py",
   "mimetype": "text/x-python",
   "name": "python",
   "nbconvert_exporter": "python",
   "pygments_lexer": "ipython3",
   "version": "3.9.6"
  },
  "orig_nbformat": 4
 },
 "nbformat": 4,
 "nbformat_minor": 2
}
