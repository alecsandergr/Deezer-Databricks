{
 "cells": [
  {
   "cell_type": "code",
   "execution_count": null,
   "metadata": {
    "application/vnd.databricks.v1+cell": {
     "cellMetadata": {
      "byteLimit": 2048000,
      "rowLimit": 10000
     },
     "inputWidgets": {},
     "nuid": "a0ee7943-69b7-49ea-8d29-4898ad198b60",
     "showTitle": true,
     "title": "Files"
    }
   },
   "outputs": [
    {
     "data": {
      "text/plain": [
       "True"
      ]
     },
     "execution_count": 1,
     "metadata": {},
     "output_type": "execute_result"
    }
   ],
   "source": [
    "dbfs_path = 'dbfs:/datalake/deezer/dbtools.py' \n",
    "local_path = f'file:/tmp/datalake/deezer/ingestion/{dbfs_path.split(\"/\")[-1]}'\n",
    "dbutils.fs.cp(dbfs_path, local_path)"
   ]
  },
  {
   "cell_type": "code",
   "execution_count": null,
   "metadata": {
    "application/vnd.databricks.v1+cell": {
     "cellMetadata": {
      "byteLimit": 2048000,
      "rowLimit": 10000
     },
     "inputWidgets": {},
     "nuid": "a7ed860e-350b-456c-a8b3-c4ae730d7c00",
     "showTitle": true,
     "title": "Imports"
    }
   },
   "outputs": [],
   "source": [
    "import sys\n",
    "sys.path.append('/tmp/datalake/deezer/ingestion/')\n",
    "\n",
    "import dbtools\n",
    "import os\n",
    "import json\n",
    "import delta\n",
    "from pyspark.sql import types\n",
    "from pyspark.sql.dataframe import DataFrame as pyspark_df\n",
    "from pyspark.sql.session import SparkSession\n",
    "from pyspark.sql.streaming.query import StreamingQuery\n",
    "from typing import Literal\n",
    "import delta"
   ]
  },
  {
   "cell_type": "code",
   "execution_count": null,
   "metadata": {
    "application/vnd.databricks.v1+cell": {
     "cellMetadata": {
      "byteLimit": 2048000,
      "rowLimit": 10000
     },
     "inputWidgets": {},
     "nuid": "a74a0361-8380-418e-afad-659f361a535a",
     "showTitle": true,
     "title": "BronzeIngestion"
    }
   },
   "outputs": [],
   "source": [
    "class BronzeIngestion:\n",
    "\n",
    "    def __init__(\n",
    "            self,\n",
    "            table_name: str,\n",
    "            database_name: str,\n",
    "            id_fields: list,\n",
    "            timestamp_field: str,\n",
    "            endpoint: Literal['history', 'charts'] = 'history',\n",
    "            file_format: str = 'parquet', \n",
    "            schema: types.StructType | None = None,\n",
    "            read_options: dict = {},\n",
    "            partition_fields: list = [],\n",
    "            spark: SparkSession = spark\n",
    "        ):\n",
    "        \n",
    "        self.table_name = table_name\n",
    "        self.database_name = database_name\n",
    "        self.id_fields = id_fields\n",
    "        self.timestamp_field = timestamp_field\n",
    "        self.endpoint = endpoint\n",
    "        self.file_format = file_format\n",
    "        self.schema = schema\n",
    "        self.read_options = read_options\n",
    "        self.partition_fields = partition_fields\n",
    "        self.spark = spark\n",
    "\n",
    "        self.path_full_load = f'dbfs:/datalake/deezer/user/{self.endpoint}/{self.file_format}'\n",
    "        self.path_incremental = f'dbfs:/datalake/deezer/user/{self.endpoint}/{self.file_format}'\n",
    "        self.table_full_name = f'{self.database_name}.{self.table_name}'\n",
    "        self.checkpoint_path = f'{self.path_incremental.rstrip(\"/\")}_{self.table_name}_checkpoint'\n",
    "\n",
    "        self.set_schema()\n",
    "        self.set_query()\n",
    "\n",
    "    def _make_dir(path: str) -> None:\n",
    "        try:\n",
    "            dbutils.fs.mkdirs(path)\n",
    "        except:\n",
    "            pass\n",
    "\n",
    "    def infer_schema(self) -> types.StructType:\n",
    "        return self.load_full().schema\n",
    "    \n",
    "    def load_schema(self) -> types.StructType:\n",
    "        schema_path_dbfs = f'dbfs:/datalake/deezer/schema/{self.table_name}.json'\n",
    "        schema_path_local = schema_path_dbfs.replace('dbfs:', '/tmp')\n",
    "        try:\n",
    "            dbutils.fs.cp(schema_path_dbfs, f'file:{schema_path_local}')\n",
    "        except:\n",
    "            pass\n",
    "\n",
    "        if os.path.exists(schema_path_local):\n",
    "            with open(schema_path_local) as f:\n",
    "                return types.StructType.fromJson(json.load(f))\n",
    "\n",
    "    def set_schema(self) -> types.StructType:\n",
    "        schema = self.load_schema()\n",
    "\n",
    "        if schema is None:\n",
    "            print('Inferindo schema...')\n",
    "            schema = self.infer_schema()\n",
    "            print('Ok!')\n",
    "\n",
    "        self.schema = schema\n",
    "\n",
    "    def save_schema(self) -> None:\n",
    "        data = self.schema.jsonValue()\n",
    "        schema_path = '/tmp/datalake/deezer/schema'\n",
    "        self._make_dir(f'file:{schema_path}')\n",
    "        schema_path_local = f'{schema_path}/{self.table_name}.json'\n",
    "\n",
    "        with open(schema_path_local, 'w') as f:\n",
    "            json.dump(data, f, indent=2)\n",
    "\n",
    "        schema_path_dbfs = schema_path_local.replace('/tmp', 'dbfs:')\n",
    "        dbutils.fs.cp(schema_path_local, schema_path_dbfs)\n",
    "\n",
    "    def load_full(self) -> pyspark_df:\n",
    "        reader = (spark\n",
    "                    .read\n",
    "                    .format(self.file_format)\n",
    "                    .option(\"recursiveFileLookup\",\"true\")\n",
    "                    .options(**self.read_options)\n",
    "                )\n",
    "        \n",
    "        if self.schema is not None:\n",
    "            reader = reader.schema(self.schema)\n",
    "\n",
    "        sdf = reader.load(self.path_full_load)\n",
    "        \n",
    "        return sdf\n",
    "    \n",
    "    def save_full(self, sdf: pyspark_df) -> None:\n",
    "        writer = (\n",
    "            sdf.coalesce(1)\n",
    "            .write.format('delta')\n",
    "            .mode('overwrite')\n",
    "            .option(\"recursiveFileLookup\",\"true\")\n",
    "            .option('overwriteSchema', 'true')\n",
    "        )\n",
    "\n",
    "        if len(self.partition_fields) > 0:\n",
    "            writer = writer.partitionBy(*self.partition_fields)\n",
    "\n",
    "        writer.saveAsTable(self.table_full_name)\n",
    "\n",
    "    def read_query(self) -> str | None:\n",
    "        query_path_dbfs = f'dbfs:/datalake/deezer/etl/{self.table_name}.sql'\n",
    "        query_path_local = query_path_dbfs.replace('dbfs:', '/tmp')\n",
    "        try:\n",
    "            dbutils.fs.cp(query_path_dbfs, f'file:{query_path_local}')\n",
    "        except:\n",
    "            pass\n",
    "\n",
    "        if os.path.exists(query_path_local):\n",
    "            with open(query_path_local) as f:\n",
    "                return f.read()\n",
    "        return None\n",
    "    \n",
    "    def default_query(self) -> str:\n",
    "        base_query = '''SELECT *,\n",
    "                        NOW() as ingestion_at\n",
    "                        FROM {table} '''\n",
    "        ids = ','.join(self.id_fields)\n",
    "        window = f'''QUALIFY row_number() OVER (PARTITION BY {ids} ORDER BY {self.timestamp_field} DESC) = 1'''\n",
    "        return base_query + window\n",
    "    \n",
    "    def set_query(self) -> None:\n",
    "        query = self.read_query()\n",
    "        if query is None:\n",
    "            print('Loading default query...')\n",
    "            query = self.default_query()\n",
    "            print('Ok!')\n",
    "        self.query = query\n",
    "\n",
    "    def transform(self, table_name: str) -> pyspark_df:\n",
    "        query = self.query.format(table=table_name)\n",
    "        return self.spark.sql(query)\n",
    "\n",
    "    def process_full(self) -> None:\n",
    "        sdf = self.load_full()\n",
    "        view_name_tmp = f'tb_full_{self.table_name}'\n",
    "        sdf.createOrReplaceTempView(view_name_tmp)\n",
    "        sdf_transform = self.transform(view_name_tmp)\n",
    "        self.save_full(sdf_transform)\n",
    "\n",
    "    def load_stream(self) -> pyspark_df:\n",
    "        df_stream = (\n",
    "            self.spark\n",
    "            .readStream\n",
    "            .format('cloudFiles')\n",
    "            .option('cloudFiles.format', self.file_format)\n",
    "            .option('cloudFiles.maxFilesPerTrigger', 10000)\n",
    "            .option(\"recursiveFileLookup\",\"true\")\n",
    "            .options(**self.read_options)\n",
    "            .schema(self.schema)\n",
    "            .load(self.path_incremental)\n",
    "        )\n",
    "\n",
    "        return df_stream\n",
    "    \n",
    "    def upsert(self, df: pyspark_df, delta_table: delta.tables.DeltaTable) -> None:\n",
    "        df.createOrReplaceGlobalTempView(f'tb_stream_{self.table_name}')\n",
    "\n",
    "        df_new = self.transform(table_name=f'global_temp.tb_stream_{self.table_name}')\n",
    "\n",
    "        join = ' AND '.join(f'd.{id_field} = n.{id_field}' for id_field in self.id_fields)\n",
    "        (\n",
    "            delta_table.alias('d')\n",
    "            .merge(df_new.alias('n'), join)\n",
    "            .whenMatchedUpdateAll()\n",
    "            .whenNotMatchedInsertAll()\n",
    "            .execute()\n",
    "        )\n",
    "    \n",
    "    def save_stream(self, df_stream: pyspark_df) -> None:\n",
    "        table_delta = delta.DeltaTable.forName(self.spark, self.table_full_name)\n",
    "\n",
    "        return (\n",
    "            df_stream.writeStream.trigger(availableNow=True)\n",
    "            .option('checkpointLocation', self.checkpoint_path)\n",
    "            .foreachBatch(lambda df, batchID: self.upsert(df, table_delta))\n",
    "        )\n",
    "\n",
    "    def process_stream(self) -> StreamingQuery:\n",
    "        df_stream = self.load_stream()\n",
    "        stream = self.save_stream(df_stream)\n",
    "\n",
    "        return stream.start()\n"
   ]
  },
  {
   "cell_type": "code",
   "execution_count": null,
   "metadata": {
    "application/vnd.databricks.v1+cell": {
     "cellMetadata": {
      "byteLimit": 2048000,
      "rowLimit": 10000
     },
     "inputWidgets": {},
     "nuid": "9d1e2e77-5cab-462c-ad4c-167effaa4e4e",
     "showTitle": true,
     "title": "Setup"
    }
   },
   "outputs": [
    {
     "name": "stdout",
     "output_type": "stream",
     "text": [
      "Inferindo schema...\n",
      "Ok!\n",
      "Loading default query...\n",
      "Ok!\n"
     ]
    }
   ],
   "source": [
    "settings = {\n",
    "    \"history\": {\n",
    "        \"id_fields\": [\"timestamp\"],\n",
    "        \"timestamp_field\": \"timestamp\"\n",
    "    },\n",
    "    \"charts\": {\n",
    "        'id_fields': ['id', 'chart', '`timestamp`'],\n",
    "        \"timestamp_field\": \"timestamp\"\n",
    "    }\n",
    "}\n",
    "\n",
    "# table_name = dbutils.widgets.get('datasource')\n",
    "datasource = 'history'\n",
    "table_name = f'deezer_{datasource}'\n",
    "database_name = 'bronze'\n",
    "\n",
    "config = settings[datasource]\n",
    "\n",
    "ingestao = BronzeIngestion(\n",
    "            table_name=table_name,\n",
    "            database_name=database_name,\n",
    "            spark=spark,\n",
    "            endpoint=datasource,\n",
    "            **config\n",
    ")"
   ]
  },
  {
   "cell_type": "code",
   "execution_count": null,
   "metadata": {
    "application/vnd.databricks.v1+cell": {
     "cellMetadata": {
      "byteLimit": 2048000,
      "rowLimit": 10000
     },
     "inputWidgets": {},
     "nuid": "57988a81-581e-4de3-b41f-5c4bd8cd9bff",
     "showTitle": true,
     "title": "Table creation"
    }
   },
   "outputs": [],
   "source": [
    "if not dbtools.table_exists(spark, database_name, table_name):\n",
    "    df_null = spark.createDataFrame(data=[], schema=ingestao.schema)\n",
    "    ingestao.save_full(df_null)\n",
    "    dbutils.fs.rm(ingestao.checkpoint_path, True)"
   ]
  },
  {
   "cell_type": "code",
   "execution_count": null,
   "metadata": {
    "application/vnd.databricks.v1+cell": {
     "cellMetadata": {
      "byteLimit": 2048000,
      "rowLimit": 10000
     },
     "inputWidgets": {},
     "nuid": "6d6847a7-5c6c-48bf-a1e5-7cdf10ca349b",
     "showTitle": true,
     "title": "Streaming ingestion"
    }
   },
   "outputs": [
    {
     "data": {
      "text/plain": [
       "DataFrame[]"
      ]
     },
     "execution_count": 7,
     "metadata": {},
     "output_type": "execute_result"
    }
   ],
   "source": [
    "stream = ingestao.process_stream()\n",
    "stream.awaitTermination()\n",
    "\n",
    "table = delta.DeltaTable.forName(spark, f\"{database_name}.{table_name}\")\n",
    "table.vacuum()"
   ]
  },
  {
   "cell_type": "code",
   "execution_count": null,
   "metadata": {
    "application/vnd.databricks.v1+cell": {
     "cellMetadata": {
      "byteLimit": 2048000,
      "rowLimit": 10000
     },
     "inputWidgets": {},
     "nuid": "b0ca88b4-57b5-487c-926a-7ca9d8605075",
     "showTitle": true,
     "title": "Ingestion charts"
    }
   },
   "outputs": [
    {
     "name": "stdout",
     "output_type": "stream",
     "text": [
      "Inferindo schema...\n",
      "Ok!\n",
      "Loading default query...\n",
      "Ok!\n"
     ]
    },
    {
     "data": {
      "text/plain": [
       "DataFrame[]"
      ]
     },
     "execution_count": 9,
     "metadata": {},
     "output_type": "execute_result"
    }
   ],
   "source": [
    "datasource = 'charts'\n",
    "table_name = f'deezer_{datasource}'\n",
    "database_name = 'bronze'\n",
    "\n",
    "config = settings[datasource]\n",
    "\n",
    "ingestao_charts = BronzeIngestion(\n",
    "            table_name=table_name,\n",
    "            database_name=database_name,\n",
    "            spark=spark,\n",
    "            endpoint=datasource,\n",
    "            **config\n",
    ")\n",
    "\n",
    "if not dbtools.table_exists(spark, database_name, table_name):\n",
    "    df_null = spark.createDataFrame(data=[], schema=ingestao_charts.schema)\n",
    "    ingestao_charts.save_full(df_null)\n",
    "    dbutils.fs.rm(ingestao_charts.checkpoint_path, True)\n",
    "\n",
    "stream_charts = ingestao_charts.process_stream()\n",
    "stream_charts.awaitTermination() \n",
    "\n",
    "table = delta.DeltaTable.forName(spark, f\"{database_name}.{table_name}\")\n",
    "table.vacuum()"
   ]
  },
  {
   "cell_type": "code",
   "execution_count": null,
   "metadata": {
    "application/vnd.databricks.v1+cell": {
     "cellMetadata": {
      "byteLimit": 2048000,
      "rowLimit": 10000
     },
     "inputWidgets": {},
     "nuid": "5ed1d146-4d53-4934-8dc2-85ae68f45c78",
     "showTitle": false,
     "title": ""
    }
   },
   "outputs": [
    {
     "data": {
      "text/html": [
       "<style scoped>\n",
       "  .table-result-container {\n",
       "    max-height: 300px;\n",
       "    overflow: auto;\n",
       "  }\n",
       "  table, th, td {\n",
       "    border: 1px solid black;\n",
       "    border-collapse: collapse;\n",
       "  }\n",
       "  th, td {\n",
       "    padding: 5px;\n",
       "  }\n",
       "  th {\n",
       "    text-align: left;\n",
       "  }\n",
       "</style><div class='table-result-container'><table class='table-result'><thead style='background-color: white'><tr><th>id</th><th>title</th><th>name</th><th>title</th><th>timestamp</th><th>rank</th></tr></thead><tbody><tr><td>2470364805</td><td>The Day I Was Born</td><td>Ed Sheeran</td><td>Autumn Variations</td><td>1696022685</td><td>100000</td></tr><tr><td>2470364795</td><td>When Will I Be Alright</td><td>Ed Sheeran</td><td>Autumn Variations</td><td>1696022509</td><td>100000</td></tr><tr><td>2470364785</td><td>Punchline</td><td>Ed Sheeran</td><td>Autumn Variations</td><td>1696022301</td><td>100000</td></tr><tr><td>2470364775</td><td>Spring</td><td>Ed Sheeran</td><td>Autumn Variations</td><td>1696022123</td><td>100000</td></tr><tr><td>2470364765</td><td>Midnight</td><td>Ed Sheeran</td><td>Autumn Variations</td><td>1696021927</td><td>100000</td></tr><tr><td>1370378452</td><td>Time Traveling</td><td>Sarah Kang</td><td>Time Traveling</td><td>1696021806</td><td>237695</td></tr><tr><td>2470364755</td><td>Page</td><td>Ed Sheeran</td><td>Autumn Variations</td><td>1696021696</td><td>100000</td></tr><tr><td>425175112</td><td>Flume (Bon Iver Cover)</td><td>Hundreds</td><td>Flume (Bon Iver Cover)</td><td>1696021613</td><td>160673</td></tr><tr><td>2470364735</td><td>That’s On Me</td><td>Ed Sheeran</td><td>Autumn Variations</td><td>1696021468</td><td>100000</td></tr><tr><td>1452441092</td><td>Nothing</td><td>Sarah Kang</td><td>Nothing</td><td>1696021409</td><td>78648</td></tr><tr><td>2470364725</td><td>American Town</td><td>Ed Sheeran</td><td>Autumn Variations</td><td>1696021270</td><td>100000</td></tr><tr><td>67256895</td><td>Bedbugs</td><td>The Limousines</td><td>Hush</td><td>1696021032</td><td>106478</td></tr><tr><td>2470364715</td><td>Blue</td><td>Ed Sheeran</td><td>Autumn Variations</td><td>1696020589</td><td>100000</td></tr><tr><td>2470364705</td><td>Plastic Bag</td><td>Ed Sheeran</td><td>Autumn Variations</td><td>1696020258</td><td>100000</td></tr><tr><td>2470364695</td><td>Amazing</td><td>Ed Sheeran</td><td>Autumn Variations</td><td>1696020012</td><td>100000</td></tr><tr><td>2470364685</td><td>England</td><td>Ed Sheeran</td><td>Autumn Variations</td><td>1696019786</td><td>100000</td></tr><tr><td>73956677</td><td>Snow Day</td><td>Pete Kuzma</td><td>Equilibrium</td><td>1696019698</td><td>91306</td></tr><tr><td>2470364675</td><td>Magical</td><td>Ed Sheeran</td><td>Autumn Variations</td><td>1696019590</td><td>100000</td></tr><tr><td>1342363022</td><td>The Best Thing</td><td>Paper Planes</td><td>Simple Things</td><td>1696019572</td><td>223782</td></tr><tr><td>2389689205</td><td>Il faudrait</td><td>Vianney</td><td>à 2 à 3</td><td>1696019556</td><td>100000</td></tr><tr><td>1509486992</td><td>You > Me</td><td>Oh Wonder</td><td>22 Break</td><td>1696019365</td><td>106200</td></tr><tr><td>1509486922</td><td>Down</td><td>Oh Wonder</td><td>22 Break</td><td>1696019177</td><td>130671</td></tr><tr><td>2466133605</td><td>Yes I'm A Mess</td><td>AJR</td><td>Yes I'm A Mess</td><td>1696019164</td><td>100000</td></tr><tr><td>75802465</td><td>Goats in Trees</td><td>Foster the People</td><td>Supermodel</td><td>1696013639</td><td>248715</td></tr><tr><td>789280</td><td>That I Would Be Good</td><td>Alanis Morissette</td><td>The Collection (Standard Edition)</td><td>1696013382</td><td>438985</td></tr><tr><td>73982869</td><td>Rather Be (feat. Jess Glynne)</td><td>Clean Bandit</td><td>Rather Be (feat. Jess Glynne)</td><td>1696013155</td><td>902636</td></tr><tr><td>99236198</td><td>I Don't Wanna Grow Up</td><td>Bebe Rexha</td><td>I Don't Wanna Grow Up</td><td>1696012906</td><td>193440</td></tr><tr><td>2298992255</td><td>Carnavoyeur</td><td>Queens of the Stone Age</td><td>In Times New Roman...</td><td>1696012670</td><td>496082</td></tr><tr><td>90632839</td><td>The Days (Henrik B Remix)</td><td>Avicii</td><td>The Days / Nights (EP)</td><td>1696012432</td><td>262603</td></tr><tr><td>143060366</td><td>Evil Woman</td><td>Black Sabbath</td><td>Greatest Hits (2009 Remastered Version)</td><td>1696012230</td><td>188474</td></tr><tr><td>80259074</td><td>Love Someone</td><td>Jason Mraz</td><td>YES!</td><td>1696011973</td><td>396760</td></tr><tr><td>6446908</td><td>Permanent December</td><td>Miley Cyrus</td><td>Can't Be Tamed</td><td>1696011755</td><td>234868</td></tr><tr><td>507357782</td><td>two nights (feat. Aminé)</td><td>Lykke Li</td><td>so sad so sexy</td><td>1696011551</td><td>293903</td></tr><tr><td>1279588962</td><td>Friends In The Corner</td><td>Foxes</td><td>Friends In The Corner EP</td><td>1696011342</td><td>87798</td></tr><tr><td>1461095242</td><td>Gloria</td><td>The Lumineers</td><td>CRIMES</td><td>1696011126</td><td>204570</td></tr><tr><td>1115454642</td><td>Lay Your Head On Me</td><td>Major Lazer</td><td>Music is the Weapon</td><td>1696010926</td><td>223166</td></tr><tr><td>7718393</td><td>S/C/A/R/E/C/R/O/W</td><td>My Chemical Romance</td><td>Danger Days: The True Lives of the Fabulous Killjoys</td><td>1696010657</td><td>348236</td></tr><tr><td>1825919857</td><td>Stop Waiting</td><td>Oh Wonder</td><td>22 Make</td><td>1696010403</td><td>216584</td></tr><tr><td>118195264</td><td>Close To You</td><td>Rihanna</td><td>ANTI (Deluxe)</td><td>1696010179</td><td>93373</td></tr><tr><td>131998442</td><td>Sol Que Faltava (Ao Vivo)</td><td>TIAGO IORC</td><td>Troco Likes Ao Vivo</td><td>1696009944</td><td>379953</td></tr><tr><td>491446922</td><td>Zack And Codeine</td><td>Post Malone</td><td>beerbongs & bentleys</td><td>1696009739</td><td>552894</td></tr><tr><td>134971736</td><td>House on a Hill</td><td>The Pretty Reckless</td><td>Going to Hell</td><td>1696009453</td><td>422939</td></tr><tr><td>2382069775</td><td>Novacandy</td><td>Post Malone</td><td>AUSTIN</td><td>1696008607</td><td>297313</td></tr><tr><td>112889856</td><td>Hey Mama (feat. Nicki Minaj, Bebe Rexha & Afrojack) vs. The Whisperer (feat. Sia) (Listenin' Continuous Mix)</td><td>David Guetta</td><td>Listen Again</td><td>1696008480</td><td>93504</td></tr><tr><td>1021367372</td><td>Power</td><td>Ellie Goulding</td><td>Brightest Blue</td><td>1696008180</td><td>345004</td></tr><tr><td>8164635</td><td>Beat It</td><td>Michael Jackson</td><td>HIStory - PAST, PRESENT AND FUTURE - BOOK I</td><td>1696007921</td><td>396874</td></tr><tr><td>114811604</td><td>Up&Up</td><td>Coldplay</td><td>A Head Full of Dreams</td><td>1696007516</td><td>636270</td></tr><tr><td>2411001135</td><td>Haushinka (Cassette demo)</td><td>Green Day</td><td>Dookie (30th Anniversary Deluxe Edition)</td><td>1696007304</td><td>100000</td></tr><tr><td>102035463</td><td>AhHa</td><td>Nate Ruess</td><td>Grand Romantic</td><td>1696007040</td><td>161865</td></tr><tr><td>1029302942</td><td>3 small words</td><td>MisterWives</td><td>SUPERBLOOM</td><td>1696006847</td><td>76808</td></tr><tr><td>2310199685</td><td>Meltdown</td><td>Niall Horan</td><td>The Show</td><td>1696006693</td><td>612378</td></tr><tr><td>12255573</td><td>Above The Law</td><td>Bad Meets Evil</td><td>Hell: The Sequel (Deluxe)</td><td>1696006484</td><td>423794</td></tr><tr><td>81797378</td><td>Get Lucky (Bonus Track)</td><td>Naughty Boy</td><td>Hotel Cabana (Deluxe Version)</td><td>1696006226</td><td>152902</td></tr><tr><td>356475011</td><td>Bored To Death (Acoustic)</td><td>blink-182</td><td>California (Deluxe Edition)</td><td>1696005990</td><td>304621</td></tr><tr><td>2471796691</td><td>2023 World Championship Theme</td><td>League of Legends</td><td>2023 World Championship Theme</td><td>1696005836</td><td>626157</td></tr><tr><td>2446922785</td><td>Sure Enough</td><td>Two Door Cinema Club</td><td>Sure Enough</td><td>1696005663</td><td>450875</td></tr><tr><td>2470883921</td><td>POR EL CONTRARIO (with Angela Aguilar & Leonardo Aguilar)</td><td>Becky G</td><td>ESQUINAS</td><td>1695999352</td><td>100000</td></tr><tr><td>2467243095</td><td>Within (Drumless Edition)</td><td>Daft Punk</td><td>Within (Drumless Edition)</td><td>1695999123</td><td>100000</td></tr><tr><td>2471477141</td><td>Atomic City</td><td>U2</td><td>Atomic City</td><td>1695998905</td><td>100000</td></tr><tr><td>103856378</td><td>Bloodfeather</td><td>Highly Suspect</td><td>Mister Asylum</td><td>1695961154</td><td>379602</td></tr><tr><td>92872152</td><td>Irresistible</td><td>Fall Out Boy</td><td>American Beauty/American Psycho</td><td>1695960947</td><td>535277</td></tr><tr><td>3090877</td><td>The Fantasy</td><td>Thirty Seconds to Mars</td><td>A Beautiful Lie</td><td>1695960678</td><td>375471</td></tr><tr><td>542982382</td><td>Lake Effect Kid</td><td>Fall Out Boy</td><td>Lake Effect Kid</td><td>1695960457</td><td>325285</td></tr><tr><td>785965</td><td>The Ghost of You</td><td>My Chemical Romance</td><td>Three Cheers for Sweet Revenge</td><td>1695960262</td><td>595425</td></tr><tr><td>623736392</td><td>Some Say</td><td>Sum 41</td><td>Chuck</td><td>1695960056</td><td>551828</td></tr><tr><td>3090875</td><td>The Kill</td><td>Thirty Seconds to Mars</td><td>A Beautiful Lie</td><td>1695959825</td><td>837492</td></tr><tr><td>7216932</td><td>Waiting for the End</td><td>Linkin Park</td><td>Waiting for the End</td><td>1695959593</td><td>610912</td></tr><tr><td>7084407</td><td>Burning in the Skies</td><td>Linkin Park</td><td>A Thousand Suns</td><td>1695959340</td><td>509761</td></tr><tr><td>542982382</td><td>Lake Effect Kid</td><td>Fall Out Boy</td><td>Lake Effect Kid</td><td>1695959119</td><td>325285</td></tr><tr><td>7084418</td><td>The Catalyst</td><td>Linkin Park</td><td>A Thousand Suns</td><td>1695958780</td><td>654059</td></tr><tr><td>92872160</td><td>Uma Thurman</td><td>Fall Out Boy</td><td>American Beauty/American Psycho</td><td>1695958568</td><td>557698</td></tr><tr><td>6823456</td><td>Feel Good Drag</td><td>Anberlin</td><td>New Surrender (Deluxe Version)</td><td>1695958380</td><td>410142</td></tr><tr><td>92872152</td><td>Irresistible</td><td>Fall Out Boy</td><td>American Beauty/American Psycho</td><td>1695958173</td><td>535277</td></tr><tr><td>66404569</td><td>Miss Missing You</td><td>Fall Out Boy</td><td>Save Rock And Roll</td><td>1695957961</td><td>384772</td></tr><tr><td>376480961</td><td>Feels (feat. Pharrell Williams, Katy Perry & Big Sean)</td><td>Calvin Harris</td><td>Funk Wav Bounces Vol.1</td><td>1695957737</td><td>596777</td></tr><tr><td>2676943</td><td>She's My Winona (Album Version)</td><td>Fall Out Boy</td><td>Folie à Deux (Digital Album)</td><td>1695946956</td><td>300528</td></tr><tr><td>427638052</td><td>2000 Light Years Away</td><td>Green Day</td><td>Greatest Hits: God's Favorite Band</td><td>1695946512</td><td>277843</td></tr><tr><td>13547563</td><td>Freaking Me Out (feat. Alex Gaskarth)</td><td>Simple Plan</td><td>Get Your Heart On! (Deluxe Edition)</td><td>1695946325</td><td>298414</td></tr><tr><td>116348250</td><td>Good Night (Remastered 2009)</td><td>The Beatles</td><td>The Beatles (Remastered)</td><td>1695946131</td><td>356055</td></tr><tr><td>61142287</td><td>We'll Be Coming Back (feat. Example)</td><td>Calvin Harris</td><td>18 Months</td><td>1695945897</td><td>602238</td></tr><tr><td>134525902</td><td>Perfect Illusion</td><td>Lady Gaga</td><td>Joanne (Deluxe)</td><td>1695945715</td><td>607272</td></tr><tr><td>841310312</td><td>nasa (live)</td><td>Ariana Grande</td><td>k bye for now (swt live)</td><td>1695945530</td><td>290589</td></tr><tr><td>14292183</td><td>Love You Like a Love Song (Jumpsmokers Club Remix)</td><td>Selena Gomez & The Scene</td><td>When the Sun Goes Down (Deluxe Edition)</td><td>1695945254</td><td>138417</td></tr><tr><td>366904291</td><td>Trovoa</td><td>A Banda Mais Bonita Da Cidade</td><td>De Cima do Mundo Eu Vi o Tempo</td><td>1695944877</td><td>316750</td></tr><tr><td>1414907482</td><td>Born This Way (The Country Road Version)</td><td>Orville Peck</td><td>BORN THIS WAY THE TENTH ANNIVERSARY</td><td>1695944618</td><td>175522</td></tr><tr><td>4946146</td><td>Vertigem</td><td>NX Zero</td><td>Sete Chaves</td><td>1695944579</td><td>345445</td></tr><tr><td>416560452</td><td>Livin Right</td><td>The Score</td><td>ATLAS (Deluxe)</td><td>1695944370</td><td>248344</td></tr><tr><td>1088873952</td><td>You should be sad (Acoustic)</td><td>Halsey</td><td>Manic</td><td>1695943956</td><td>237466</td></tr><tr><td>725651042</td><td>Can't Stop Me Now</td><td>The Score</td><td>Stay</td><td>1695943838</td><td>432636</td></tr><tr><td>15531169</td><td>Crawl</td><td>Kings of Leon</td><td>Only By The Night</td><td>1695943591</td><td>427732</td></tr><tr><td>1031382752</td><td>mirrorball</td><td>Taylor Swift</td><td>folklore</td><td>1695943382</td><td>563365</td></tr><tr><td>1364016952</td><td>Run</td><td>OneRepublic</td><td>Run</td><td>1695943213</td><td>821764</td></tr><tr><td>1645426622</td><td>Stunner</td><td>Milky Chance</td><td>Sadnecessary</td><td>1695942925</td><td>473600</td></tr><tr><td>823567782</td><td>Señorita</td><td>Shawn Mendes</td><td>Romance</td><td>1695942735</td><td>422894</td></tr><tr><td>862051992</td><td>Physical</td><td>Dua Lipa</td><td>Physical</td><td>1695942541</td><td>836281</td></tr><tr><td>112889844</td><td>S.T.O.P. (feat. Ryan Tedder) vs. Goodbye Friend (feat. The Script) (Listenin' Continuous Mix)</td><td>David Guetta</td><td>Listen Again</td><td>1695942368</td><td>62187</td></tr><tr><td>393460752</td><td>So Much Better (Avicii Remix)</td><td>Avicii</td><td>AVĪCI (01)</td><td>1695942211</td><td>460495</td></tr><tr><td>475334092</td><td>Lucy In The Sky With Diamonds</td><td>The Beatles</td><td>Yellow Submarine Songtrack</td><td>1695942003</td><td>306125</td></tr><tr><td>2431707715</td><td>Jaded</td><td>Aerosmith</td><td>Greatest Hits (Deluxe)</td><td>1695941788</td><td>305742</td></tr><tr><td>579901112</td><td>Sexy Sadie (Esher Demo)</td><td>The Beatles</td><td>The Beatles (White Album / Super Deluxe)</td><td>1695941642</td><td>158201</td></tr><tr><td>109169054</td><td>Kill Em With Kindness</td><td>Selena Gomez</td><td>Revival (Deluxe)</td><td>1695941389</td><td>674770</td></tr><tr><td>1057406892</td><td>No More Sad Songs (Acoustic Version)</td><td>Little Mix</td><td>Glory Days - EP</td><td>1695941197</td><td>258244</td></tr><tr><td>84572609</td><td>Roll with It (Remastered)</td><td>Oasis</td><td>(What's The Story) Morning Glory? (Remastered)</td><td>1695940956</td><td>410675</td></tr><tr><td>1375215232</td><td>Be Alright</td><td>Ariana Grande</td><td>Dangerous Woman</td><td>1695940777</td><td>582675</td></tr><tr><td>579901822</td><td>I Will (Take 13)</td><td>The Beatles</td><td>The Beatles (White Album / Super Deluxe)</td><td>1695940636</td><td>129603</td></tr><tr><td>66334777</td><td>Catching Cold</td><td>Andrew McMahon in the Wilderness</td><td>The Pop Underground EP</td><td>1695940395</td><td>30781</td></tr><tr><td>623751942</td><td>Glory</td><td>The Score</td><td>Pressure</td><td>1695940229</td><td>569977</td></tr><tr><td>721576722</td><td>Legendary</td><td>Skillet</td><td>Victorious</td><td>1695939984</td><td>527901</td></tr><tr><td>407173422</td><td>Money On Straight</td><td>The Killers</td><td>Wonderful Wonderful (Deluxe)</td><td>1695939601</td><td>173693</td></tr><tr><td>866230302</td><td>Hallelujah (Acoustic)</td><td>Oh Wonder</td><td>No One Else Can Wear Your Crown (Deluxe)</td><td>1695939374</td><td>143170</td></tr><tr><td>682081132</td><td>Close My Eyes</td><td>Hey Violet</td><td>Close My Eyes</td><td>1695939003</td><td>106857</td></tr><tr><td>1171317452</td><td>Follow You (Live at the Royal Albert Hall)</td><td>Bring Me the Horizon</td><td>Live at the Royal Albert Hall</td><td>1695938770</td><td>298597</td></tr><tr><td>2657774</td><td>Misery</td><td>Green Day</td><td>Warning</td><td>1695938464</td><td>320221</td></tr><tr><td>134971752</td><td>Waiting for a Friend</td><td>The Pretty Reckless</td><td>Going to Hell</td><td>1695938271</td><td>267388</td></tr><tr><td>69056434</td><td>Undercover</td><td>Selena Gomez</td><td>Stars Dance</td><td>1695938038</td><td>191173</td></tr><tr><td>602456602</td><td>Hide</td><td>Juice Wrld</td><td>Spider-Man: Into the Spider-Verse (Soundtrack From & Inspired by the Motion Picture)</td><td>1695937832</td><td>698716</td></tr><tr><td>2431707435</td><td>Nobody's Fault</td><td>Aerosmith</td><td>Greatest Hits (Deluxe)</td><td>1695937572</td><td>289960</td></tr><tr><td>760429682</td><td>Come Together (Take 5)</td><td>The Beatles</td><td>Abbey Road (Super Deluxe Edition)</td><td>1695937258</td><td>229795</td></tr><tr><td>1645426642</td><td>Becoming</td><td>Milky Chance</td><td>Sadnecessary</td><td>1695929685</td><td>408710</td></tr><tr><td>134946544</td><td>Into the Void</td><td>Black Sabbath</td><td>The Ultimate Collection</td><td>1695929017</td><td>146414</td></tr><tr><td>1166462152</td><td>What You're Waiting For</td><td>Passenger</td><td>Songs for the Drunk and Broken Hearted (Deluxe)</td><td>1695928860</td><td>300652</td></tr><tr><td>568846102</td><td>No Goodbyes</td><td>Dua Lipa</td><td>Dua Lipa (Complete Edition)</td><td>1695928643</td><td>349278</td></tr><tr><td>79875054</td><td>Photograph</td><td>Ed Sheeran</td><td>x (Deluxe Edition)</td><td>1695927411</td><td>901171</td></tr><tr><td>737967452</td><td>Daylight</td><td>Taylor Swift</td><td>Lover</td><td>1695927117</td><td>717956</td></tr><tr><td>124995668</td><td>Side To Side</td><td>Ariana Grande</td><td>Dangerous Woman</td><td>1695926891</td><td>826327</td></tr><tr><td>412521092</td><td>Never Go Back</td><td>Evanescence</td><td>Synthesis</td><td>1695926601</td><td>370258</td></tr><tr><td>3165212</td><td>Naïve (BBC Radio 1's Jo Whiley's Live Lounge)</td><td>Lily Allen</td><td>Alright, Still (Deluxe)</td><td>1695926374</td><td>476978</td></tr><tr><td>1052622782</td><td>LA Hallucinations</td><td>Carly Rae Jepsen</td><td>Emotion (Deluxe Expanded Edition)</td><td>1695926190</td><td>224739</td></tr><tr><td>580705302</td><td>Joan of Arc</td><td>Little Mix</td><td>LM5 (Expanded Edition)</td><td>1695925998</td><td>423177</td></tr><tr><td>664645432</td><td>Weightless</td><td>City and Colour</td><td>Little Hell (Deluxe)</td><td>1695925786</td><td>196935</td></tr><tr><td>422942802</td><td>Listen</td><td>Nico & Vinz</td><td>Elephant in the Room</td><td>1695925638</td><td>216656</td></tr><tr><td>73806817</td><td>Christmas Song</td><td>Sadao Watanabe</td><td>Sadao & Charlie Again</td><td>1695925248</td><td>25441</td></tr><tr><td>462938422</td><td>song like you</td><td>Bea Miller</td><td>aurora</td><td>1695925052</td><td>241543</td></tr><tr><td>1873276817</td><td>Future Holds</td><td>Bastille</td><td>Give Me The Future + Dreams Of The Past</td><td>1695924844</td><td>171242</td></tr><tr><td>99216704</td><td>Marvin Gaye (feat. Meghan Trainor)</td><td>Charlie Puth</td><td>Some Type of Love</td><td>1695924653</td><td>374375</td></tr><tr><td>73135389</td><td>I See Fire (From \"The Hobbit - The Desolation Of Smaug\")</td><td>Ed Sheeran</td><td>The Hobbit - The Desolation Of Smaug (Original Motion Picture Soundtrack / Special Edition)</td><td>1695924303</td><td>774936</td></tr><tr><td>782030</td><td>This Is the Place</td><td>Red Hot Chili Peppers</td><td>By the Way</td><td>1695924045</td><td>352709</td></tr><tr><td>127354229</td><td>Another Girl Another Planet</td><td>blink-182</td><td>Greatest Hits</td><td>1695923884</td><td>471585</td></tr><tr><td>88936753</td><td>Pray to God (feat. HAIM)</td><td>Calvin Harris</td><td>Motion</td><td>1695923652</td><td>591534</td></tr><tr><td>1117483882</td><td>Sweet Melody</td><td>Little Mix</td><td>Sweet Melody</td><td>1695923438</td><td>600828</td></tr><tr><td>581345792</td><td>Midi sur novembre</td><td>Louane</td><td>Louane (Deluxe)</td><td>1695923254</td><td>191799</td></tr><tr><td>126874195</td><td>When We Were Young (Acoustic)</td><td>Passenger</td><td>Young as the Morning Old as the Sea</td><td>1695923037</td><td>173029</td></tr><tr><td>118183722</td><td>Wildfire</td><td>Seafret</td><td>Tell Me It's Real (Expanded Edition)</td><td>1695922508</td><td>474312</td></tr><tr><td>16015027</td><td>Best Thing I Never Had</td><td>Beyoncé</td><td>4</td><td>1695922026</td><td>272681</td></tr><tr><td>26608041</td><td>Oh My God</td><td>Kaiser Chiefs</td><td>Souvenir : The Singles 2004 - 2012</td><td>1695921810</td><td>291560</td></tr><tr><td>113023328</td><td>All the Beautiful Things</td><td>Eels</td><td>Winter</td><td>1695921669</td><td>32636</td></tr><tr><td>2290808225</td><td>High Water</td><td>Bishop Briggs</td><td>When Everything Went Dark</td><td>1695921480</td><td>150544</td></tr><tr><td>97981552</td><td>Tententender</td><td>ANAVITÓRIA</td><td>Anavitória</td><td>1695921280</td><td>302591</td></tr><tr><td>1937122677</td><td>2 Die 4</td><td>Tove Lo</td><td>Dirt Femme</td><td>1695921094</td><td>615064</td></tr><tr><td>1052617642</td><td>Running Towards A Place</td><td>The Killers</td><td>Imploding The Mirage</td><td>1695920841</td><td>328872</td></tr><tr><td>15425694</td><td>Video Games</td><td>Lana Del Rey</td><td>Video Games</td><td>1695920399</td><td>939621</td></tr><tr><td>1522299392</td><td>Can't Look Away</td><td>Seafret</td><td>Most of Us Are Strangers</td><td>1695920184</td><td>221801</td></tr><tr><td>127676465</td><td>Body Say</td><td>Demi Lovato</td><td>Body Say</td><td>1695919990</td><td>509949</td></tr><tr><td>810640392</td><td>pra você guardei o amor</td><td>ANAVITÓRIA</td><td>N</td><td>1695919761</td><td>536850</td></tr><tr><td>84572673</td><td>Rockin' Chair (Demo)</td><td>Oasis</td><td>(What's The Story) Morning Glory? (Remastered)</td><td>1695919498</td><td>186266</td></tr><tr><td>510347842</td><td>Accelerate (feat. Ty Dolla $ign & 2 Chainz)</td><td>Christina Aguilera</td><td>Liberation</td><td>1695919252</td><td>344547</td></tr><tr><td>87964313</td><td>Family Reunion</td><td>Henry Jackman</td><td>Big Hero 6 (Original Motion Picture Soundtrack)</td><td>1695919170</td><td>104501</td></tr><tr><td>140182699</td><td>No Roots</td><td>Alice Merton</td><td>No Roots</td><td>1695918933</td><td>841327</td></tr><tr><td>358658291</td><td>No Friend</td><td>Paramore</td><td>After Laughter</td><td>1695918868</td><td>306830</td></tr><tr><td>80273752</td><td>Your Star</td><td>Evanescence</td><td>The Open Door</td><td>1695918585</td><td>404291</td></tr><tr><td>17694893</td><td>Constellations</td><td>Jack Johnson</td><td>Jack Johnson & Friends: Best Of Kokua Festival, A Benefit For The Kokua Hawaii Foundation</td><td>1695918284</td><td>430999</td></tr><tr><td>139904165</td><td>Paris</td><td>The Chainsmokers</td><td>Paris</td><td>1695918062</td><td>780948</td></tr><tr><td>1241553222</td><td>The Steps</td><td>HAIM</td><td>Women In Music Pt. III (Expanded Edition)</td><td>1695917815</td><td>307969</td></tr><tr><td>1974968677</td><td>Bends</td><td>Carly Rae Jepsen</td><td>The Loneliest Time</td><td>1695917619</td><td>225898</td></tr><tr><td>109701562</td><td>It Comes Back To You</td><td>Imagine Dragons</td><td>Smoke + Mirrors (Deluxe)</td><td>1695916046</td><td>431266</td></tr><tr><td>78749548</td><td>Le ciel dans une chambre</td><td>Carla Bruni</td><td>Quelqu'un m'a dit</td><td>1695915755</td><td>409577</td></tr><tr><td>133584896</td><td>Choke</td><td>OneRepublic</td><td>Oh My My (Deluxe)</td><td>1695915528</td><td>338020</td></tr><tr><td>642674252</td><td>Strangers</td><td>Sigrid</td><td>Sucker Punch</td><td>1695914614</td><td>525098</td></tr><tr><td>6304691</td><td>Big Girl Little Girl</td><td>Sia</td><td>We Are Born</td><td>1695914356</td><td>216934</td></tr><tr><td>1057395362</td><td>The Beginning</td><td>Little Mix</td><td>Get Weird (Expanded Edition)</td><td>1695914260</td><td>146016</td></tr><tr><td>571928262</td><td>A Million Dreams (Reprise)</td><td>Willow Sage Hart</td><td>A Million Dreams (Reprise)</td><td>1695914212</td><td>363741</td></tr><tr><td>2454037</td><td>Funhouse (Main Version)</td><td>P!nk</td><td>Funhouse</td><td>1695914007</td><td>610755</td></tr><tr><td>17701763</td><td>Sail (Dan The Automator Remix)</td><td>AWOLNATION</td><td>RE/Sail</td><td>1695913732</td><td>118179</td></tr><tr><td>847184</td><td>Nymphetamine Fix</td><td>Cradle of Filth</td><td>Nymphetamine</td><td>1695913430</td><td>472124</td></tr></tbody></table></div>"
      ]
     },
     "metadata": {
      "application/vnd.databricks.v1+output": {
       "addedWidgets": {},
       "aggData": [],
       "aggError": "",
       "aggOverflow": false,
       "aggSchema": [],
       "aggSeriesLimitReached": false,
       "aggType": "",
       "arguments": {},
       "columnCustomDisplayInfos": {},
       "data": [
        [
         2470364805,
         "The Day I Was Born",
         "Ed Sheeran",
         "Autumn Variations",
         1696022685,
         100000
        ],
        [
         2470364795,
         "When Will I Be Alright",
         "Ed Sheeran",
         "Autumn Variations",
         1696022509,
         100000
        ],
        [
         2470364785,
         "Punchline",
         "Ed Sheeran",
         "Autumn Variations",
         1696022301,
         100000
        ],
        [
         2470364775,
         "Spring",
         "Ed Sheeran",
         "Autumn Variations",
         1696022123,
         100000
        ],
        [
         2470364765,
         "Midnight",
         "Ed Sheeran",
         "Autumn Variations",
         1696021927,
         100000
        ],
        [
         1370378452,
         "Time Traveling",
         "Sarah Kang",
         "Time Traveling",
         1696021806,
         237695
        ],
        [
         2470364755,
         "Page",
         "Ed Sheeran",
         "Autumn Variations",
         1696021696,
         100000
        ],
        [
         425175112,
         "Flume (Bon Iver Cover)",
         "Hundreds",
         "Flume (Bon Iver Cover)",
         1696021613,
         160673
        ],
        [
         2470364735,
         "That’s On Me",
         "Ed Sheeran",
         "Autumn Variations",
         1696021468,
         100000
        ],
        [
         1452441092,
         "Nothing",
         "Sarah Kang",
         "Nothing",
         1696021409,
         78648
        ],
        [
         2470364725,
         "American Town",
         "Ed Sheeran",
         "Autumn Variations",
         1696021270,
         100000
        ],
        [
         67256895,
         "Bedbugs",
         "The Limousines",
         "Hush",
         1696021032,
         106478
        ],
        [
         2470364715,
         "Blue",
         "Ed Sheeran",
         "Autumn Variations",
         1696020589,
         100000
        ],
        [
         2470364705,
         "Plastic Bag",
         "Ed Sheeran",
         "Autumn Variations",
         1696020258,
         100000
        ],
        [
         2470364695,
         "Amazing",
         "Ed Sheeran",
         "Autumn Variations",
         1696020012,
         100000
        ],
        [
         2470364685,
         "England",
         "Ed Sheeran",
         "Autumn Variations",
         1696019786,
         100000
        ],
        [
         73956677,
         "Snow Day",
         "Pete Kuzma",
         "Equilibrium",
         1696019698,
         91306
        ],
        [
         2470364675,
         "Magical",
         "Ed Sheeran",
         "Autumn Variations",
         1696019590,
         100000
        ],
        [
         1342363022,
         "The Best Thing",
         "Paper Planes",
         "Simple Things",
         1696019572,
         223782
        ],
        [
         2389689205,
         "Il faudrait",
         "Vianney",
         "à 2 à 3",
         1696019556,
         100000
        ],
        [
         1509486992,
         "You > Me",
         "Oh Wonder",
         "22 Break",
         1696019365,
         106200
        ],
        [
         1509486922,
         "Down",
         "Oh Wonder",
         "22 Break",
         1696019177,
         130671
        ],
        [
         2466133605,
         "Yes I'm A Mess",
         "AJR",
         "Yes I'm A Mess",
         1696019164,
         100000
        ],
        [
         75802465,
         "Goats in Trees",
         "Foster the People",
         "Supermodel",
         1696013639,
         248715
        ],
        [
         789280,
         "That I Would Be Good",
         "Alanis Morissette",
         "The Collection (Standard Edition)",
         1696013382,
         438985
        ],
        [
         73982869,
         "Rather Be (feat. Jess Glynne)",
         "Clean Bandit",
         "Rather Be (feat. Jess Glynne)",
         1696013155,
         902636
        ],
        [
         99236198,
         "I Don't Wanna Grow Up",
         "Bebe Rexha",
         "I Don't Wanna Grow Up",
         1696012906,
         193440
        ],
        [
         2298992255,
         "Carnavoyeur",
         "Queens of the Stone Age",
         "In Times New Roman...",
         1696012670,
         496082
        ],
        [
         90632839,
         "The Days (Henrik B Remix)",
         "Avicii",
         "The Days / Nights (EP)",
         1696012432,
         262603
        ],
        [
         143060366,
         "Evil Woman",
         "Black Sabbath",
         "Greatest Hits (2009 Remastered Version)",
         1696012230,
         188474
        ],
        [
         80259074,
         "Love Someone",
         "Jason Mraz",
         "YES!",
         1696011973,
         396760
        ],
        [
         6446908,
         "Permanent December",
         "Miley Cyrus",
         "Can't Be Tamed",
         1696011755,
         234868
        ],
        [
         507357782,
         "two nights (feat. Aminé)",
         "Lykke Li",
         "so sad so sexy",
         1696011551,
         293903
        ],
        [
         1279588962,
         "Friends In The Corner",
         "Foxes",
         "Friends In The Corner EP",
         1696011342,
         87798
        ],
        [
         1461095242,
         "Gloria",
         "The Lumineers",
         "CRIMES",
         1696011126,
         204570
        ],
        [
         1115454642,
         "Lay Your Head On Me",
         "Major Lazer",
         "Music is the Weapon",
         1696010926,
         223166
        ],
        [
         7718393,
         "S/C/A/R/E/C/R/O/W",
         "My Chemical Romance",
         "Danger Days: The True Lives of the Fabulous Killjoys",
         1696010657,
         348236
        ],
        [
         1825919857,
         "Stop Waiting",
         "Oh Wonder",
         "22 Make",
         1696010403,
         216584
        ],
        [
         118195264,
         "Close To You",
         "Rihanna",
         "ANTI (Deluxe)",
         1696010179,
         93373
        ],
        [
         131998442,
         "Sol Que Faltava (Ao Vivo)",
         "TIAGO IORC",
         "Troco Likes Ao Vivo",
         1696009944,
         379953
        ],
        [
         491446922,
         "Zack And Codeine",
         "Post Malone",
         "beerbongs & bentleys",
         1696009739,
         552894
        ],
        [
         134971736,
         "House on a Hill",
         "The Pretty Reckless",
         "Going to Hell",
         1696009453,
         422939
        ],
        [
         2382069775,
         "Novacandy",
         "Post Malone",
         "AUSTIN",
         1696008607,
         297313
        ],
        [
         112889856,
         "Hey Mama (feat. Nicki Minaj, Bebe Rexha & Afrojack) vs. The Whisperer (feat. Sia) (Listenin' Continuous Mix)",
         "David Guetta",
         "Listen Again",
         1696008480,
         93504
        ],
        [
         1021367372,
         "Power",
         "Ellie Goulding",
         "Brightest Blue",
         1696008180,
         345004
        ],
        [
         8164635,
         "Beat It",
         "Michael Jackson",
         "HIStory - PAST, PRESENT AND FUTURE - BOOK I",
         1696007921,
         396874
        ],
        [
         114811604,
         "Up&Up",
         "Coldplay",
         "A Head Full of Dreams",
         1696007516,
         636270
        ],
        [
         2411001135,
         "Haushinka (Cassette demo)",
         "Green Day",
         "Dookie (30th Anniversary Deluxe Edition)",
         1696007304,
         100000
        ],
        [
         102035463,
         "AhHa",
         "Nate Ruess",
         "Grand Romantic",
         1696007040,
         161865
        ],
        [
         1029302942,
         "3 small words",
         "MisterWives",
         "SUPERBLOOM",
         1696006847,
         76808
        ],
        [
         2310199685,
         "Meltdown",
         "Niall Horan",
         "The Show",
         1696006693,
         612378
        ],
        [
         12255573,
         "Above The Law",
         "Bad Meets Evil",
         "Hell: The Sequel (Deluxe)",
         1696006484,
         423794
        ],
        [
         81797378,
         "Get Lucky (Bonus Track)",
         "Naughty Boy",
         "Hotel Cabana (Deluxe Version)",
         1696006226,
         152902
        ],
        [
         356475011,
         "Bored To Death (Acoustic)",
         "blink-182",
         "California (Deluxe Edition)",
         1696005990,
         304621
        ],
        [
         2471796691,
         "2023 World Championship Theme",
         "League of Legends",
         "2023 World Championship Theme",
         1696005836,
         626157
        ],
        [
         2446922785,
         "Sure Enough",
         "Two Door Cinema Club",
         "Sure Enough",
         1696005663,
         450875
        ],
        [
         2470883921,
         "POR EL CONTRARIO (with Angela Aguilar & Leonardo Aguilar)",
         "Becky G",
         "ESQUINAS",
         1695999352,
         100000
        ],
        [
         2467243095,
         "Within (Drumless Edition)",
         "Daft Punk",
         "Within (Drumless Edition)",
         1695999123,
         100000
        ],
        [
         2471477141,
         "Atomic City",
         "U2",
         "Atomic City",
         1695998905,
         100000
        ],
        [
         103856378,
         "Bloodfeather",
         "Highly Suspect",
         "Mister Asylum",
         1695961154,
         379602
        ],
        [
         92872152,
         "Irresistible",
         "Fall Out Boy",
         "American Beauty/American Psycho",
         1695960947,
         535277
        ],
        [
         3090877,
         "The Fantasy",
         "Thirty Seconds to Mars",
         "A Beautiful Lie",
         1695960678,
         375471
        ],
        [
         542982382,
         "Lake Effect Kid",
         "Fall Out Boy",
         "Lake Effect Kid",
         1695960457,
         325285
        ],
        [
         785965,
         "The Ghost of You",
         "My Chemical Romance",
         "Three Cheers for Sweet Revenge",
         1695960262,
         595425
        ],
        [
         623736392,
         "Some Say",
         "Sum 41",
         "Chuck",
         1695960056,
         551828
        ],
        [
         3090875,
         "The Kill",
         "Thirty Seconds to Mars",
         "A Beautiful Lie",
         1695959825,
         837492
        ],
        [
         7216932,
         "Waiting for the End",
         "Linkin Park",
         "Waiting for the End",
         1695959593,
         610912
        ],
        [
         7084407,
         "Burning in the Skies",
         "Linkin Park",
         "A Thousand Suns",
         1695959340,
         509761
        ],
        [
         542982382,
         "Lake Effect Kid",
         "Fall Out Boy",
         "Lake Effect Kid",
         1695959119,
         325285
        ],
        [
         7084418,
         "The Catalyst",
         "Linkin Park",
         "A Thousand Suns",
         1695958780,
         654059
        ],
        [
         92872160,
         "Uma Thurman",
         "Fall Out Boy",
         "American Beauty/American Psycho",
         1695958568,
         557698
        ],
        [
         6823456,
         "Feel Good Drag",
         "Anberlin",
         "New Surrender (Deluxe Version)",
         1695958380,
         410142
        ],
        [
         92872152,
         "Irresistible",
         "Fall Out Boy",
         "American Beauty/American Psycho",
         1695958173,
         535277
        ],
        [
         66404569,
         "Miss Missing You",
         "Fall Out Boy",
         "Save Rock And Roll",
         1695957961,
         384772
        ],
        [
         376480961,
         "Feels (feat. Pharrell Williams, Katy Perry & Big Sean)",
         "Calvin Harris",
         "Funk Wav Bounces Vol.1",
         1695957737,
         596777
        ],
        [
         2676943,
         "She's My Winona (Album Version)",
         "Fall Out Boy",
         "Folie à Deux (Digital Album)",
         1695946956,
         300528
        ],
        [
         427638052,
         "2000 Light Years Away",
         "Green Day",
         "Greatest Hits: God's Favorite Band",
         1695946512,
         277843
        ],
        [
         13547563,
         "Freaking Me Out (feat. Alex Gaskarth)",
         "Simple Plan",
         "Get Your Heart On! (Deluxe Edition)",
         1695946325,
         298414
        ],
        [
         116348250,
         "Good Night (Remastered 2009)",
         "The Beatles",
         "The Beatles (Remastered)",
         1695946131,
         356055
        ],
        [
         61142287,
         "We'll Be Coming Back (feat. Example)",
         "Calvin Harris",
         "18 Months",
         1695945897,
         602238
        ],
        [
         134525902,
         "Perfect Illusion",
         "Lady Gaga",
         "Joanne (Deluxe)",
         1695945715,
         607272
        ],
        [
         841310312,
         "nasa (live)",
         "Ariana Grande",
         "k bye for now (swt live)",
         1695945530,
         290589
        ],
        [
         14292183,
         "Love You Like a Love Song (Jumpsmokers Club Remix)",
         "Selena Gomez & The Scene",
         "When the Sun Goes Down (Deluxe Edition)",
         1695945254,
         138417
        ],
        [
         366904291,
         "Trovoa",
         "A Banda Mais Bonita Da Cidade",
         "De Cima do Mundo Eu Vi o Tempo",
         1695944877,
         316750
        ],
        [
         1414907482,
         "Born This Way (The Country Road Version)",
         "Orville Peck",
         "BORN THIS WAY THE TENTH ANNIVERSARY",
         1695944618,
         175522
        ],
        [
         4946146,
         "Vertigem",
         "NX Zero",
         "Sete Chaves",
         1695944579,
         345445
        ],
        [
         416560452,
         "Livin Right",
         "The Score",
         "ATLAS (Deluxe)",
         1695944370,
         248344
        ],
        [
         1088873952,
         "You should be sad (Acoustic)",
         "Halsey",
         "Manic",
         1695943956,
         237466
        ],
        [
         725651042,
         "Can't Stop Me Now",
         "The Score",
         "Stay",
         1695943838,
         432636
        ],
        [
         15531169,
         "Crawl",
         "Kings of Leon",
         "Only By The Night",
         1695943591,
         427732
        ],
        [
         1031382752,
         "mirrorball",
         "Taylor Swift",
         "folklore",
         1695943382,
         563365
        ],
        [
         1364016952,
         "Run",
         "OneRepublic",
         "Run",
         1695943213,
         821764
        ],
        [
         1645426622,
         "Stunner",
         "Milky Chance",
         "Sadnecessary",
         1695942925,
         473600
        ],
        [
         823567782,
         "Señorita",
         "Shawn Mendes",
         "Romance",
         1695942735,
         422894
        ],
        [
         862051992,
         "Physical",
         "Dua Lipa",
         "Physical",
         1695942541,
         836281
        ],
        [
         112889844,
         "S.T.O.P. (feat. Ryan Tedder) vs. Goodbye Friend (feat. The Script) (Listenin' Continuous Mix)",
         "David Guetta",
         "Listen Again",
         1695942368,
         62187
        ],
        [
         393460752,
         "So Much Better (Avicii Remix)",
         "Avicii",
         "AVĪCI (01)",
         1695942211,
         460495
        ],
        [
         475334092,
         "Lucy In The Sky With Diamonds",
         "The Beatles",
         "Yellow Submarine Songtrack",
         1695942003,
         306125
        ],
        [
         2431707715,
         "Jaded",
         "Aerosmith",
         "Greatest Hits (Deluxe)",
         1695941788,
         305742
        ],
        [
         579901112,
         "Sexy Sadie (Esher Demo)",
         "The Beatles",
         "The Beatles (White Album / Super Deluxe)",
         1695941642,
         158201
        ],
        [
         109169054,
         "Kill Em With Kindness",
         "Selena Gomez",
         "Revival (Deluxe)",
         1695941389,
         674770
        ],
        [
         1057406892,
         "No More Sad Songs (Acoustic Version)",
         "Little Mix",
         "Glory Days - EP",
         1695941197,
         258244
        ],
        [
         84572609,
         "Roll with It (Remastered)",
         "Oasis",
         "(What's The Story) Morning Glory? (Remastered)",
         1695940956,
         410675
        ],
        [
         1375215232,
         "Be Alright",
         "Ariana Grande",
         "Dangerous Woman",
         1695940777,
         582675
        ],
        [
         579901822,
         "I Will (Take 13)",
         "The Beatles",
         "The Beatles (White Album / Super Deluxe)",
         1695940636,
         129603
        ],
        [
         66334777,
         "Catching Cold",
         "Andrew McMahon in the Wilderness",
         "The Pop Underground EP",
         1695940395,
         30781
        ],
        [
         623751942,
         "Glory",
         "The Score",
         "Pressure",
         1695940229,
         569977
        ],
        [
         721576722,
         "Legendary",
         "Skillet",
         "Victorious",
         1695939984,
         527901
        ],
        [
         407173422,
         "Money On Straight",
         "The Killers",
         "Wonderful Wonderful (Deluxe)",
         1695939601,
         173693
        ],
        [
         866230302,
         "Hallelujah (Acoustic)",
         "Oh Wonder",
         "No One Else Can Wear Your Crown (Deluxe)",
         1695939374,
         143170
        ],
        [
         682081132,
         "Close My Eyes",
         "Hey Violet",
         "Close My Eyes",
         1695939003,
         106857
        ],
        [
         1171317452,
         "Follow You (Live at the Royal Albert Hall)",
         "Bring Me the Horizon",
         "Live at the Royal Albert Hall",
         1695938770,
         298597
        ],
        [
         2657774,
         "Misery",
         "Green Day",
         "Warning",
         1695938464,
         320221
        ],
        [
         134971752,
         "Waiting for a Friend",
         "The Pretty Reckless",
         "Going to Hell",
         1695938271,
         267388
        ],
        [
         69056434,
         "Undercover",
         "Selena Gomez",
         "Stars Dance",
         1695938038,
         191173
        ],
        [
         602456602,
         "Hide",
         "Juice Wrld",
         "Spider-Man: Into the Spider-Verse (Soundtrack From & Inspired by the Motion Picture)",
         1695937832,
         698716
        ],
        [
         2431707435,
         "Nobody's Fault",
         "Aerosmith",
         "Greatest Hits (Deluxe)",
         1695937572,
         289960
        ],
        [
         760429682,
         "Come Together (Take 5)",
         "The Beatles",
         "Abbey Road (Super Deluxe Edition)",
         1695937258,
         229795
        ],
        [
         1645426642,
         "Becoming",
         "Milky Chance",
         "Sadnecessary",
         1695929685,
         408710
        ],
        [
         134946544,
         "Into the Void",
         "Black Sabbath",
         "The Ultimate Collection",
         1695929017,
         146414
        ],
        [
         1166462152,
         "What You're Waiting For",
         "Passenger",
         "Songs for the Drunk and Broken Hearted (Deluxe)",
         1695928860,
         300652
        ],
        [
         568846102,
         "No Goodbyes",
         "Dua Lipa",
         "Dua Lipa (Complete Edition)",
         1695928643,
         349278
        ],
        [
         79875054,
         "Photograph",
         "Ed Sheeran",
         "x (Deluxe Edition)",
         1695927411,
         901171
        ],
        [
         737967452,
         "Daylight",
         "Taylor Swift",
         "Lover",
         1695927117,
         717956
        ],
        [
         124995668,
         "Side To Side",
         "Ariana Grande",
         "Dangerous Woman",
         1695926891,
         826327
        ],
        [
         412521092,
         "Never Go Back",
         "Evanescence",
         "Synthesis",
         1695926601,
         370258
        ],
        [
         3165212,
         "Naïve (BBC Radio 1's Jo Whiley's Live Lounge)",
         "Lily Allen",
         "Alright, Still (Deluxe)",
         1695926374,
         476978
        ],
        [
         1052622782,
         "LA Hallucinations",
         "Carly Rae Jepsen",
         "Emotion (Deluxe Expanded Edition)",
         1695926190,
         224739
        ],
        [
         580705302,
         "Joan of Arc",
         "Little Mix",
         "LM5 (Expanded Edition)",
         1695925998,
         423177
        ],
        [
         664645432,
         "Weightless",
         "City and Colour",
         "Little Hell (Deluxe)",
         1695925786,
         196935
        ],
        [
         422942802,
         "Listen",
         "Nico & Vinz",
         "Elephant in the Room",
         1695925638,
         216656
        ],
        [
         73806817,
         "Christmas Song",
         "Sadao Watanabe",
         "Sadao & Charlie Again",
         1695925248,
         25441
        ],
        [
         462938422,
         "song like you",
         "Bea Miller",
         "aurora",
         1695925052,
         241543
        ],
        [
         1873276817,
         "Future Holds",
         "Bastille",
         "Give Me The Future + Dreams Of The Past",
         1695924844,
         171242
        ],
        [
         99216704,
         "Marvin Gaye (feat. Meghan Trainor)",
         "Charlie Puth",
         "Some Type of Love",
         1695924653,
         374375
        ],
        [
         73135389,
         "I See Fire (From \"The Hobbit - The Desolation Of Smaug\")",
         "Ed Sheeran",
         "The Hobbit - The Desolation Of Smaug (Original Motion Picture Soundtrack / Special Edition)",
         1695924303,
         774936
        ],
        [
         782030,
         "This Is the Place",
         "Red Hot Chili Peppers",
         "By the Way",
         1695924045,
         352709
        ],
        [
         127354229,
         "Another Girl Another Planet",
         "blink-182",
         "Greatest Hits",
         1695923884,
         471585
        ],
        [
         88936753,
         "Pray to God (feat. HAIM)",
         "Calvin Harris",
         "Motion",
         1695923652,
         591534
        ],
        [
         1117483882,
         "Sweet Melody",
         "Little Mix",
         "Sweet Melody",
         1695923438,
         600828
        ],
        [
         581345792,
         "Midi sur novembre",
         "Louane",
         "Louane (Deluxe)",
         1695923254,
         191799
        ],
        [
         126874195,
         "When We Were Young (Acoustic)",
         "Passenger",
         "Young as the Morning Old as the Sea",
         1695923037,
         173029
        ],
        [
         118183722,
         "Wildfire",
         "Seafret",
         "Tell Me It's Real (Expanded Edition)",
         1695922508,
         474312
        ],
        [
         16015027,
         "Best Thing I Never Had",
         "Beyoncé",
         "4",
         1695922026,
         272681
        ],
        [
         26608041,
         "Oh My God",
         "Kaiser Chiefs",
         "Souvenir : The Singles 2004 - 2012",
         1695921810,
         291560
        ],
        [
         113023328,
         "All the Beautiful Things",
         "Eels",
         "Winter",
         1695921669,
         32636
        ],
        [
         2290808225,
         "High Water",
         "Bishop Briggs",
         "When Everything Went Dark",
         1695921480,
         150544
        ],
        [
         97981552,
         "Tententender",
         "ANAVITÓRIA",
         "Anavitória",
         1695921280,
         302591
        ],
        [
         1937122677,
         "2 Die 4",
         "Tove Lo",
         "Dirt Femme",
         1695921094,
         615064
        ],
        [
         1052617642,
         "Running Towards A Place",
         "The Killers",
         "Imploding The Mirage",
         1695920841,
         328872
        ],
        [
         15425694,
         "Video Games",
         "Lana Del Rey",
         "Video Games",
         1695920399,
         939621
        ],
        [
         1522299392,
         "Can't Look Away",
         "Seafret",
         "Most of Us Are Strangers",
         1695920184,
         221801
        ],
        [
         127676465,
         "Body Say",
         "Demi Lovato",
         "Body Say",
         1695919990,
         509949
        ],
        [
         810640392,
         "pra você guardei o amor",
         "ANAVITÓRIA",
         "N",
         1695919761,
         536850
        ],
        [
         84572673,
         "Rockin' Chair (Demo)",
         "Oasis",
         "(What's The Story) Morning Glory? (Remastered)",
         1695919498,
         186266
        ],
        [
         510347842,
         "Accelerate (feat. Ty Dolla $ign & 2 Chainz)",
         "Christina Aguilera",
         "Liberation",
         1695919252,
         344547
        ],
        [
         87964313,
         "Family Reunion",
         "Henry Jackman",
         "Big Hero 6 (Original Motion Picture Soundtrack)",
         1695919170,
         104501
        ],
        [
         140182699,
         "No Roots",
         "Alice Merton",
         "No Roots",
         1695918933,
         841327
        ],
        [
         358658291,
         "No Friend",
         "Paramore",
         "After Laughter",
         1695918868,
         306830
        ],
        [
         80273752,
         "Your Star",
         "Evanescence",
         "The Open Door",
         1695918585,
         404291
        ],
        [
         17694893,
         "Constellations",
         "Jack Johnson",
         "Jack Johnson & Friends: Best Of Kokua Festival, A Benefit For The Kokua Hawaii Foundation",
         1695918284,
         430999
        ],
        [
         139904165,
         "Paris",
         "The Chainsmokers",
         "Paris",
         1695918062,
         780948
        ],
        [
         1241553222,
         "The Steps",
         "HAIM",
         "Women In Music Pt. III (Expanded Edition)",
         1695917815,
         307969
        ],
        [
         1974968677,
         "Bends",
         "Carly Rae Jepsen",
         "The Loneliest Time",
         1695917619,
         225898
        ],
        [
         109701562,
         "It Comes Back To You",
         "Imagine Dragons",
         "Smoke + Mirrors (Deluxe)",
         1695916046,
         431266
        ],
        [
         78749548,
         "Le ciel dans une chambre",
         "Carla Bruni",
         "Quelqu'un m'a dit",
         1695915755,
         409577
        ],
        [
         133584896,
         "Choke",
         "OneRepublic",
         "Oh My My (Deluxe)",
         1695915528,
         338020
        ],
        [
         642674252,
         "Strangers",
         "Sigrid",
         "Sucker Punch",
         1695914614,
         525098
        ],
        [
         6304691,
         "Big Girl Little Girl",
         "Sia",
         "We Are Born",
         1695914356,
         216934
        ],
        [
         1057395362,
         "The Beginning",
         "Little Mix",
         "Get Weird (Expanded Edition)",
         1695914260,
         146016
        ],
        [
         571928262,
         "A Million Dreams (Reprise)",
         "Willow Sage Hart",
         "A Million Dreams (Reprise)",
         1695914212,
         363741
        ],
        [
         2454037,
         "Funhouse (Main Version)",
         "P!nk",
         "Funhouse",
         1695914007,
         610755
        ],
        [
         17701763,
         "Sail (Dan The Automator Remix)",
         "AWOLNATION",
         "RE/Sail",
         1695913732,
         118179
        ],
        [
         847184,
         "Nymphetamine Fix",
         "Cradle of Filth",
         "Nymphetamine",
         1695913430,
         472124
        ]
       ],
       "datasetInfos": [],
       "dbfsResultPath": null,
       "isJsonSchema": true,
       "metadata": {},
       "overflow": false,
       "plotOptions": {
        "customPlotOptions": {},
        "displayType": "table",
        "pivotAggregation": null,
        "pivotColumns": null,
        "xColumns": null,
        "yColumns": null
       },
       "removedWidgets": [],
       "schema": [
        {
         "metadata": "{}",
         "name": "id",
         "type": "\"long\""
        },
        {
         "metadata": "{}",
         "name": "title",
         "type": "\"string\""
        },
        {
         "metadata": "{}",
         "name": "name",
         "type": "\"string\""
        },
        {
         "metadata": "{}",
         "name": "title",
         "type": "\"string\""
        },
        {
         "metadata": "{}",
         "name": "timestamp",
         "type": "\"long\""
        },
        {
         "metadata": "{}",
         "name": "rank",
         "type": "\"long\""
        }
       ],
       "type": "table"
      }
     },
     "output_type": "display_data"
    }
   ],
   "source": [
    "# spark.sql('''\n",
    "#           select\n",
    "#           id, title, artist.name, album.title, `timestamp`, `rank`\n",
    "#           from bronze.deezer_history\n",
    "#           order by `timestamp` desc\n",
    "#           ''').display()"
   ]
  },
  {
   "cell_type": "code",
   "execution_count": null,
   "metadata": {
    "application/vnd.databricks.v1+cell": {
     "cellMetadata": {
      "byteLimit": 2048000,
      "rowLimit": 10000
     },
     "inputWidgets": {},
     "nuid": "f086eef8-562d-46b2-b5f9-d95a604e478e",
     "showTitle": false,
     "title": ""
    }
   },
   "outputs": [
    {
     "data": {
      "text/html": [
       "<style scoped>\n",
       "  .table-result-container {\n",
       "    max-height: 300px;\n",
       "    overflow: auto;\n",
       "  }\n",
       "  table, th, td {\n",
       "    border: 1px solid black;\n",
       "    border-collapse: collapse;\n",
       "  }\n",
       "  th, td {\n",
       "    padding: 5px;\n",
       "  }\n",
       "  th {\n",
       "    text-align: left;\n",
       "  }\n",
       "</style><div class='table-result-container'><table class='table-result'><thead style='background-color: white'><tr><th>id</th><th>TITLE</th><th>ARTIST_NAME</th><th>ALBUM_TITLE</th><th>CHART</th><th>LAST_ONE</th><th>LAST_SONG_IN_THIS_CHART</th><th>AN_FROM_LS_IN_THIS_CHART</th></tr></thead><tbody><tr><td>2373296555</td><td>Home</td><td>HAIM</td><td>Barbie The Album</td><td>1</td><td>Fora do Top 100</td><td>null</td><td>null</td></tr><tr><td>1509486932</td><td>22 Break</td><td>Oh Wonder</td><td>22 Break</td><td>2</td><td>8</td><td>Seasons</td><td>Thirty Seconds to Mars</td></tr><tr><td>1509486942</td><td>Free</td><td>Oh Wonder</td><td>22 Break</td><td>3</td><td>9</td><td>Ahay</td><td>Of Monsters And Men</td></tr><tr><td>2444545705</td><td>Seasons</td><td>Thirty Seconds to Mars</td><td>It’s The End Of The World But It’s A Beautiful Day</td><td>4</td><td>2</td><td>Get Up Kid</td><td>Thirty Seconds to Mars</td></tr><tr><td>716516292</td><td>Ahay</td><td>Of Monsters And Men</td><td>FEVER DREAM</td><td>5</td><td>3</td><td>Stuck</td><td>Thirty Seconds to Mars</td></tr><tr><td>2422608825</td><td>Used To Be Young</td><td>Miley Cyrus</td><td>Used To Be Young</td><td>6</td><td>69</td><td>Life Is Beautiful</td><td>Thirty Seconds to Mars</td></tr><tr><td>2444545715</td><td>Get Up Kid</td><td>Thirty Seconds to Mars</td><td>It’s The End Of The World But It’s A Beautiful Day</td><td>7</td><td>4</td><td>Down</td><td>Oh Wonder</td></tr><tr><td>2444545695</td><td>Life Is Beautiful</td><td>Thirty Seconds to Mars</td><td>It’s The End Of The World But It’s A Beautiful Day</td><td>8</td><td>6</td><td>22 Break</td><td>Oh Wonder</td></tr><tr><td>2444545685</td><td>Stuck</td><td>Thirty Seconds to Mars</td><td>It’s The End Of The World But It’s A Beautiful Day</td><td>9</td><td>5</td><td>Free</td><td>Oh Wonder</td></tr><tr><td>2444545725</td><td>Love These Days</td><td>Thirty Seconds to Mars</td><td>It’s The End Of The World But It’s A Beautiful Day</td><td>10</td><td>29</td><td>Baby</td><td>Oh Wonder</td></tr><tr><td>1509486922</td><td>Down</td><td>Oh Wonder</td><td>22 Break</td><td>11</td><td>7</td><td>Seasons</td><td>Thirty Seconds to Mars</td></tr><tr><td>422942802</td><td>Listen</td><td>Nico & Vinz</td><td>Elephant in the Room</td><td>12</td><td>Fora do Top 100</td><td>Can We Always Be Friends?</td><td>Oh Wonder</td></tr><tr><td>1509486912</td><td>Baby</td><td>Oh Wonder</td><td>22 Break</td><td>13</td><td>10</td><td>Get Up Kid</td><td>Thirty Seconds to Mars</td></tr><tr><td>2401836615</td><td>Seasons</td><td>Thirty Seconds to Mars</td><td>Seasons</td><td>14</td><td>11</td><td>22 Make</td><td>Oh Wonder</td></tr><tr><td>1509486952</td><td>Don't Let The Neighbourhood Hear</td><td>Oh Wonder</td><td>22 Break</td><td>15</td><td>Fora do Top 100</td><td>Twenty Fourteen</td><td>Oh Wonder</td></tr><tr><td>1825919807</td><td>Can We Always Be Friends?</td><td>Oh Wonder</td><td>22 Make</td><td>16</td><td>12</td><td>Love Me Now</td><td>Oh Wonder</td></tr><tr><td>95890648</td><td>Tourne</td><td>Louane</td><td>Chambre 12</td><td>17</td><td>Fora do Top 100</td><td>Keep On Dancing</td><td>Oh Wonder</td></tr><tr><td>2422952525</td><td>Single Soon</td><td>Selena Gomez</td><td>Single Soon</td><td>18</td><td>70</td><td>You > Me</td><td>Oh Wonder</td></tr><tr><td>2358392655</td><td>Get Up Kid</td><td>Thirty Seconds to Mars</td><td>Get Up Kid</td><td>19</td><td>13</td><td>Kicking The Doors Down</td><td>Oh Wonder</td></tr><tr><td>511062632</td><td>Plastic Rose</td><td>Maroon 5</td><td>Red Pill Blues (Deluxe)</td><td>20</td><td>Fora do Top 100</td><td>Lonely Star</td><td>Oh Wonder</td></tr><tr><td>2401967315</td><td>Vertigo</td><td>Griff</td><td>Vertigo</td><td>21</td><td>Fora do Top 100</td><td>The Greatest</td><td>Tones and I</td></tr><tr><td>1825919757</td><td>22 Make</td><td>Oh Wonder</td><td>22 Make</td><td>22</td><td>14</td><td>Magnificent</td><td>Oh Wonder</td></tr><tr><td>1509487012</td><td>Twenty Fourteen</td><td>Oh Wonder</td><td>22 Break</td><td>23</td><td>15</td><td>Chemical</td><td>Post Malone</td></tr><tr><td>1509486982</td><td>Love Me Now</td><td>Oh Wonder</td><td>22 Break</td><td>24</td><td>16</td><td>Neon Lights (Rock Version)</td><td>Demi Lovato</td></tr><tr><td>134971752</td><td>Waiting for a Friend</td><td>The Pretty Reckless</td><td>Going to Hell</td><td>25</td><td>Fora do Top 100</td><td>Skyscraper (Rock Version)</td><td>Demi Lovato</td></tr><tr><td>998807332</td><td>Keep On Dancing</td><td>Oh Wonder</td><td>Home Tapes</td><td>26</td><td>17</td><td>Tell Me You Love Me (Rock Version)</td><td>Demi Lovato</td></tr><tr><td>1509487002</td><td>Kicking The Doors Down</td><td>Oh Wonder</td><td>22 Break</td><td>27</td><td>19</td><td>Let Me Go (feat. Chad Kroeger)</td><td>Avril Lavigne</td></tr><tr><td>1509486992</td><td>You > Me</td><td>Oh Wonder</td><td>22 Break</td><td>28</td><td>18</td><td>World On Fire</td><td>Thirty Seconds to Mars</td></tr><tr><td>2371561395</td><td>The Greatest</td><td>Tones and I</td><td>The Greatest</td><td>29</td><td>21</td><td>Love These Days</td><td>Thirty Seconds to Mars</td></tr><tr><td>998807322</td><td>Lonely Star</td><td>Oh Wonder</td><td>Home Tapes</td><td>30</td><td>20</td><td>7:1</td><td>Thirty Seconds to Mars</td></tr><tr><td>2182389147</td><td>Jaded</td><td>Miley Cyrus</td><td>Endless Summer Vacation</td><td>31</td><td>73</td><td>True Romance</td><td>Oh Wonder</td></tr><tr><td>2450784825</td><td>Sweet Relief</td><td>Madison Beer</td><td>Silence Between Songs</td><td>32</td><td>Fora do Top 100</td><td>Padam Padam</td><td>Kylie Minogue</td></tr><tr><td>1974968677</td><td>Bends</td><td>Carly Rae Jepsen</td><td>The Loneliest Time</td><td>33</td><td>Fora do Top 100</td><td>The Silence</td><td>Bastille</td></tr><tr><td>2444544125</td><td>Neon Lights (Rock Version)</td><td>Demi Lovato</td><td>REVAMPED</td><td>34</td><td>24</td><td>Barbie World (with Aqua)</td><td>Nicki Minaj</td></tr><tr><td>2444544115</td><td>Tell Me You Love Me (Rock Version)</td><td>Demi Lovato</td><td>REVAMPED</td><td>35</td><td>26</td><td>Two Pieces</td><td>Demi Lovato</td></tr><tr><td>2444544135</td><td>Skyscraper (Rock Version)</td><td>Demi Lovato</td><td>REVAMPED</td><td>36</td><td>25</td><td>Better Version</td><td>FLETCHER</td></tr><tr><td>2390575185</td><td>Chemical</td><td>Post Malone</td><td>AUSTIN (Bonus)</td><td>37</td><td>23</td><td>Love Song</td><td>LP</td></tr><tr><td>637567872</td><td>Let Me Go (feat. Chad Kroeger)</td><td>Avril Lavigne</td><td>Avril Lavigne (Expanded Edition)</td><td>38</td><td>27</td><td>2 Die 4</td><td>Addison Rae</td></tr><tr><td>2312236085</td><td>Padam Padam</td><td>Kylie Minogue</td><td>Padam Padam</td><td>39</td><td>32</td><td>vampire</td><td>Olivia Rodrigo</td></tr><tr><td>1825919767</td><td>Magnificent</td><td>Oh Wonder</td><td>22 Make</td><td>40</td><td>22</td><td>Avalanche</td><td>Thirty Seconds to Mars</td></tr><tr><td>2373296485</td><td>Barbie World (with Aqua)</td><td>Nicki Minaj</td><td>Barbie The Album</td><td>41</td><td>34</td><td>Gimme Love</td><td>Sia</td></tr><tr><td>2444545735</td><td>World On Fire</td><td>Thirty Seconds to Mars</td><td>It’s The End Of The World But It’s A Beautiful Day</td><td>42</td><td>28</td><td>Lost These Days</td><td>Thirty Seconds to Mars</td></tr><tr><td>2444545745</td><td>7:1</td><td>Thirty Seconds to Mars</td><td>It’s The End Of The World But It’s A Beautiful Day</td><td>43</td><td>30</td><td>Apollo</td><td>Oh Wonder</td></tr><tr><td>2290123805</td><td>Middle Ground</td><td>Maroon 5</td><td>Middle Ground</td><td>44</td><td>95</td><td>South of the Border (feat. Camila Cabello & Cardi B)</td><td>Ed Sheeran</td></tr><tr><td>2440763155</td><td>vampire</td><td>Olivia Rodrigo</td><td>GUTS</td><td>45</td><td>39</td><td>logical</td><td>Olivia Rodrigo</td></tr><tr><td>565343412</td><td>Purple Like the Summer Rain</td><td>MØ</td><td>Forever Neverland</td><td>46</td><td>Fora do Top 100</td><td>Curtains</td><td>Ed Sheeran</td></tr><tr><td>72371368</td><td>The Silence</td><td>Bastille</td><td>All This Bad Blood</td><td>47</td><td>33</td><td>Monster</td><td>Imagine Dragons</td></tr><tr><td>89824483</td><td>Two Pieces</td><td>Demi Lovato</td><td>Demi (Deluxe)</td><td>48</td><td>35</td><td>Whippin (feat. Felix Snow)</td><td>Kiiara</td></tr><tr><td>73135389</td><td>I See Fire (From \"The Hobbit - The Desolation Of Smaug\")</td><td>Ed Sheeran</td><td>The Hobbit - The Desolation Of Smaug (Original Motion Picture Soundtrack / Special Edition)</td><td>49</td><td>Fora do Top 100</td><td>Children of the Sky (a Starfield song)</td><td>Imagine Dragons</td></tr><tr><td>2404528875</td><td>Lipstick</td><td>Charlie Puth</td><td>Lipstick</td><td>50</td><td>Fora do Top 100</td><td>Eyes Closed</td><td>Ed Sheeran</td></tr><tr><td>2019706107</td><td>Better Version</td><td>FLETCHER</td><td>Girl Of My Dreams (Deluxe)</td><td>51</td><td>36</td><td>Middle Ground</td><td>Maroon 5</td></tr><tr><td>710164312</td><td>South of the Border (feat. Camila Cabello & Cardi B)</td><td>Ed Sheeran</td><td>No.6 Collaborations Project</td><td>52</td><td>44</td><td>All I Want</td><td>Kodaline</td></tr><tr><td>866230302</td><td>Hallelujah (Acoustic)</td><td>Oh Wonder</td><td>No One Else Can Wear Your Crown (Deluxe)</td><td>53</td><td>Fora do Top 100</td><td>All We Do</td><td>Oh Wonder</td></tr><tr><td>1825919777</td><td>True Romance</td><td>Oh Wonder</td><td>22 Make</td><td>54</td><td>31</td><td>Benson Hedges</td><td>fun.</td></tr><tr><td>642674252</td><td>Strangers</td><td>Sigrid</td><td>Sucker Punch</td><td>55</td><td>Fora do Top 100</td><td>The Sharing Song</td><td>Jack Johnson</td></tr><tr><td>1873276817</td><td>Future Holds</td><td>Bastille</td><td>Give Me The Future + Dreams Of The Past</td><td>56</td><td>Fora do Top 100</td><td>I Wish I Never Met You</td><td>Oh Wonder</td></tr><tr><td>1963688547</td><td>2 Die 4</td><td>Addison Rae</td><td>Like A Dream</td><td>57</td><td>38</td><td>Confident (Rock Version)</td><td>Demi Lovato</td></tr><tr><td>2260091167</td><td>Love Song</td><td>LP</td><td>Love Lines</td><td>58</td><td>37</td><td>Throwback Love</td><td>Meghan Trainor</td></tr><tr><td>2414222995</td><td>Gimme Love</td><td>Sia</td><td>Gimme Love</td><td>59</td><td>41</td><td>The Unknown</td><td>Imagine Dragons</td></tr><tr><td>2444545775</td><td>Lost These Days</td><td>Thirty Seconds to Mars</td><td>It’s The End Of The World But It’s A Beautiful Day</td><td>60</td><td>42</td><td>What Lovers Do</td><td>Maroon 5</td></tr><tr><td>2444545785</td><td>Avalanche</td><td>Thirty Seconds to Mars</td><td>It’s The End Of The World But It’s A Beautiful Day</td><td>61</td><td>40</td><td>Everything Back But You</td><td>Avril Lavigne</td></tr><tr><td>1234517832</td><td>Whippin (feat. Felix Snow)</td><td>Kiiara</td><td>lil kiiwi (Deluxe)</td><td>62</td><td>48</td><td>Anti-Hero</td><td>Taylor Swift</td></tr><tr><td>2383933455</td><td>Dream Of Running</td><td>Jasmine Jethwa</td><td>Dream Of Running</td><td>63</td><td>Fora do Top 100</td><td>Messy</td><td>Kiiara</td></tr><tr><td>16015027</td><td>Best Thing I Never Had</td><td>Beyoncé</td><td>4</td><td>64</td><td>Fora do Top 100</td><td>My Mind & Me</td><td>Selena Gomez</td></tr><tr><td>2248677207</td><td>Only Girl</td><td>Stephen Sanchez</td><td>Only Girl</td><td>65</td><td>Fora do Top 100</td><td>Upside Down</td><td>Jack Johnson</td></tr><tr><td>2195470737</td><td>SunKissing</td><td>Hailee Steinfeld</td><td>SunKissing</td><td>66</td><td>Fora do Top 100</td><td>bad idea right?</td><td>Olivia Rodrigo</td></tr><tr><td>2376677085</td><td>Fruit (Red, White & Royal Blue Version) [From the Amazon Original Movie \"Red, White & Royal Blue\"]</td><td>Oliver Sim</td><td>Fruit (Red, White & Royal Blue Version) [From the Amazon Original Movie \"Red, White & Royal Blue\"]</td><td>67</td><td>Fora do Top 100</td><td>Heart Hope</td><td>Oh Wonder</td></tr><tr><td>106061624</td><td>Heart Hope</td><td>Oh Wonder</td><td>Oh Wonder</td><td>67</td><td>Fora do Top 100</td><td>null</td><td>null</td></tr><tr><td>133584896</td><td>Choke</td><td>OneRepublic</td><td>Oh My My (Deluxe)</td><td>68</td><td>Fora do Top 100</td><td>all-american bitch</td><td>Olivia Rodrigo</td></tr><tr><td>2358152085</td><td>Quiet [from the Netflix Film ‘Heart of Stone’]</td><td>Noga Erez</td><td>Quiet [from the Netflix Film ‘Heart of Stone’]</td><td>69</td><td>Fora do Top 100</td><td>Used To Be Young</td><td>Miley Cyrus</td></tr><tr><td>2413041885</td><td>First Light</td><td>Hozier</td><td>Unreal Unearth</td><td>70</td><td>Fora do Top 100</td><td>Single Soon</td><td>Selena Gomez</td></tr><tr><td>2256073517</td><td>Curtains</td><td>Ed Sheeran</td><td>- (Deluxe)</td><td>71</td><td>46</td><td>Uncover</td><td>Zara Larsson</td></tr><tr><td>93194632</td><td>Uncover</td><td>Zara Larsson</td><td>Uncover</td><td>71</td><td>Fora do Top 100</td><td>null</td><td>null</td></tr><tr><td>2196044807</td><td>Eyes Closed</td><td>Ed Sheeran</td><td>Eyes Closed</td><td>72</td><td>50</td><td>Queens</td><td>MisterWives</td></tr><tr><td>109701586</td><td>Monster</td><td>Imagine Dragons</td><td>Smoke + Mirrors (Deluxe)</td><td>73</td><td>47</td><td>Jaded</td><td>Miley Cyrus</td></tr><tr><td>2378895615</td><td>Elevator Eyes</td><td>Tove Lo</td><td>Dirt Femme (Extended Cut)</td><td>74</td><td>Fora do Top 100</td><td>I'm with You</td><td>Avril Lavigne</td></tr><tr><td>2440763195</td><td>logical</td><td>Olivia Rodrigo</td><td>GUTS</td><td>75</td><td>45</td><td>Start Me Up (Remastered 2009)</td><td>The Rolling Stones</td></tr><tr><td>4125592</td><td>Start Me Up (Remastered 2009)</td><td>The Rolling Stones</td><td>Tattoo You (2009 Re-Mastered)</td><td>75</td><td>Fora do Top 100</td><td>null</td><td>null</td></tr><tr><td>1825919827</td><td>Apollo</td><td>Oh Wonder</td><td>22 Make</td><td>76</td><td>43</td><td>You Can't Always Get What You Want (Remastered 2019)</td><td>The Rolling Stones</td></tr><tr><td>788563832</td><td>You Can't Always Get What You Want (Remastered 2019)</td><td>The Rolling Stones</td><td>Let It Bleed (50th Anniversary Edition / Remastered 2019)</td><td>76</td><td>Fora do Top 100</td><td>null</td><td>null</td></tr><tr><td>866230282</td><td>I Wish I Never Met You</td><td>Oh Wonder</td><td>No One Else Can Wear Your Crown (Deluxe)</td><td>77</td><td>56</td><td>Man I Am</td><td>Sam Smith</td></tr><tr><td>2424631215</td><td>Children of the Sky (a Starfield song)</td><td>Imagine Dragons</td><td>Children of the Sky (a Starfield song)</td><td>78</td><td>49</td><td>Don't Forget (Rock Version)</td><td>Demi Lovato</td></tr><tr><td>2444544165</td><td>Don't Forget (Rock Version)</td><td>Demi Lovato</td><td>REVAMPED</td><td>78</td><td>Fora do Top 100</td><td>null</td><td>null</td></tr><tr><td>2402233625</td><td>Middle Ground</td><td>Maroon 5</td><td>Middle Ground</td><td>79</td><td>51</td><td>La La Land (Rock Version)</td><td>Demi Lovato</td></tr><tr><td>2444544145</td><td>La La Land (Rock Version)</td><td>Demi Lovato</td><td>REVAMPED</td><td>79</td><td>Fora do Top 100</td><td>null</td><td>null</td></tr><tr><td>1600551752</td><td>Benson Hedges</td><td>fun.</td><td>Aim and Ignite (Deluxe Version)</td><td>80</td><td>54</td><td>Give Your Heart A Break (Rock Version)</td><td>Demi Lovato</td></tr><tr><td>2444544155</td><td>Give Your Heart A Break (Rock Version)</td><td>Demi Lovato</td><td>REVAMPED</td><td>80</td><td>Fora do Top 100</td><td>null</td><td>null</td></tr><tr><td>539765092</td><td>The Sharing Song</td><td>Jack Johnson</td><td>Jack Johnson And Friends: Sing-A-Longs And Lullabies For The Film Curious George</td><td>81</td><td>55</td><td>MORE THAN YOU KNOW</td><td>blink-182</td></tr><tr><td>2459579105</td><td>MORE THAN YOU KNOW</td><td>blink-182</td><td>ONE MORE TIME / MORE THAN YOU KNOW</td><td>81</td><td>Fora do Top 100</td><td>null</td><td>null</td></tr><tr><td>1251001372</td><td>Throwback Love</td><td>Meghan Trainor</td><td>The Love Train</td><td>82</td><td>58</td><td>Caught in the Middle</td><td>Paramore</td></tr><tr><td>358658271</td><td>Caught in the Middle</td><td>Paramore</td><td>After Laughter</td><td>82</td><td>Fora do Top 100</td><td>null</td><td>null</td></tr><tr><td>2444544085</td><td>Confident (Rock Version)</td><td>Demi Lovato</td><td>REVAMPED</td><td>83</td><td>57</td><td>I Won't</td><td>AJR</td></tr><tr><td>1834410167</td><td>I Won't</td><td>AJR</td><td>I Won't</td><td>83</td><td>Fora do Top 100</td><td>null</td><td>null</td></tr><tr><td>109701576</td><td>The Unknown</td><td>Imagine Dragons</td><td>Smoke + Mirrors (Deluxe)</td><td>84</td><td>59</td><td>Domesticated Animals</td><td>Queens of the Stone Age</td></tr><tr><td>394886422</td><td>Domesticated Animals</td><td>Queens of the Stone Age</td><td>Villains</td><td>84</td><td>Fora do Top 100</td><td>null</td><td>null</td></tr><tr><td>511062522</td><td>What Lovers Do</td><td>Maroon 5</td><td>Red Pill Blues (Deluxe)</td><td>85</td><td>60</td><td>Good Old Days (feat. Kesha)</td><td>Macklemore</td></tr><tr><td>397729462</td><td>Good Old Days (feat. Kesha)</td><td>Macklemore</td><td>GEMINI</td><td>85</td><td>Fora do Top 100</td><td>null</td><td>null</td></tr><tr><td>2440763135</td><td>all-american bitch</td><td>Olivia Rodrigo</td><td>GUTS</td><td>86</td><td>68</td><td>Happy</td><td>Oh Wonder</td></tr><tr><td>866230212</td><td>Happy</td><td>Oh Wonder</td><td>No One Else Can Wear Your Crown (Deluxe)</td><td>86</td><td>Fora do Top 100</td><td>null</td><td>null</td></tr><tr><td>2440763145</td><td>bad idea right?</td><td>Olivia Rodrigo</td><td>GUTS</td><td>87</td><td>66</td><td>As It Was</td><td>Harry Styles</td></tr><tr><td>1703487577</td><td>As It Was</td><td>Harry Styles</td><td>As It Was</td><td>87</td><td>Fora do Top 100</td><td>null</td><td>null</td></tr><tr><td>1976903157</td><td>Anti-Hero</td><td>Taylor Swift</td><td>Midnights</td><td>88</td><td>62</td><td>Death's Song</td><td>City and Colour</td></tr><tr><td>372640111</td><td>Death's Song</td><td>City and Colour</td><td>The Hurry and the Harm</td><td>88</td><td>Fora do Top 100</td><td>null</td><td>null</td></tr><tr><td>927608952</td><td>All I Want</td><td>Kodaline</td><td>In A Perfect World (Expanded Edition)</td><td>89</td><td>52</td><td>Solo</td><td>Carly Rae Jepsen</td></tr><tr><td>963368642</td><td>Solo</td><td>Carly Rae Jepsen</td><td>Dedicated Side B</td><td>89</td><td>Fora do Top 100</td><td>null</td><td>null</td></tr><tr><td>106061618</td><td>All We Do</td><td>Oh Wonder</td><td>Oh Wonder</td><td>90</td><td>53</td><td>Socialite</td><td>Post Malone</td></tr><tr><td>2390575235</td><td>Socialite</td><td>Post Malone</td><td>AUSTIN (Bonus)</td><td>90</td><td>Fora do Top 100</td><td>null</td><td>null</td></tr><tr><td>2373681675</td><td>Love Like This</td><td>ZAYN</td><td>Love Like This</td><td>91</td><td>Fora do Top 100</td><td>Wrecking Ball</td><td>Miley Cyrus</td></tr><tr><td>71137166</td><td>Wrecking Ball</td><td>Miley Cyrus</td><td>Bangerz (Deluxe Version)</td><td>91</td><td>Fora do Top 100</td><td>null</td><td>null</td></tr><tr><td>1234517922</td><td>Messy</td><td>Kiiara</td><td>lil kiiwi (Deluxe)</td><td>92</td><td>63</td><td>No One Dies From Love</td><td>Tove Lo</td></tr><tr><td>2378895645</td><td>No One Dies From Love</td><td>Tove Lo</td><td>Dirt Femme (Extended Cut)</td><td>92</td><td>Fora do Top 100</td><td>null</td><td>null</td></tr><tr><td>1998292697</td><td>My Mind & Me</td><td>Selena Gomez</td><td>My Mind & Me</td><td>93</td><td>64</td><td>Ghost</td><td>Justin Bieber</td></tr><tr><td>1280165212</td><td>Ghost</td><td>Justin Bieber</td><td>Justice</td><td>93</td><td>Fora do Top 100</td><td>null</td><td>null</td></tr><tr><td>580705302</td><td>Joan of Arc</td><td>Little Mix</td><td>LM5 (Expanded Edition)</td><td>94</td><td>Fora do Top 100</td><td>Drunk On You (Acoustic)</td><td>Oh Wonder</td></tr><tr><td>866230332</td><td>Drunk On You (Acoustic)</td><td>Oh Wonder</td><td>No One Else Can Wear Your Crown (Deluxe)</td><td>94</td><td>Fora do Top 100</td><td>null</td><td>null</td></tr><tr><td>1241553222</td><td>The Steps</td><td>HAIM</td><td>Women In Music Pt. III (Expanded Edition)</td><td>95</td><td>Fora do Top 100</td><td>Middle Ground</td><td>Maroon 5</td></tr><tr><td>94754790</td><td>Queens</td><td>MisterWives</td><td>Our Own House</td><td>96</td><td>72</td><td>My Sacrifice</td><td>Creed</td></tr><tr><td>80274650</td><td>My Sacrifice</td><td>Creed</td><td>Weathered</td><td>96</td><td>Fora do Top 100</td><td>null</td><td>null</td></tr><tr><td>13705101</td><td>Everything Back But You</td><td>Avril Lavigne</td><td>The Best Damn Thing (Expanded Edition)</td><td>97</td><td>61</td><td>If I Were You</td><td>Rosa Linn</td></tr><tr><td>2331349905</td><td>If I Were You</td><td>Rosa Linn</td><td>Lay Your Hands Upon My Heart</td><td>97</td><td>Fora do Top 100</td><td>null</td><td>null</td></tr><tr><td>2373296515</td><td>Man I Am</td><td>Sam Smith</td><td>Barbie The Album</td><td>98</td><td>77</td><td>You’re Not Alone</td><td>Owl City</td></tr><tr><td>103050450</td><td>You’re Not Alone</td><td>Owl City</td><td>Mobile Orchestra</td><td>98</td><td>Fora do Top 100</td><td>null</td><td>null</td></tr><tr><td>539765022</td><td>Upside Down</td><td>Jack Johnson</td><td>Jack Johnson And Friends: Sing-A-Longs And Lullabies For The Film Curious George</td><td>99</td><td>65</td><td>Late Night Talking</td><td>Harry Styles</td></tr><tr><td>1756569577</td><td>Late Night Talking</td><td>Harry Styles</td><td>Harry's House</td><td>99</td><td>Fora do Top 100</td><td>null</td><td>null</td></tr><tr><td>15587475</td><td>I'm with You</td><td>Avril Lavigne</td><td>Let Go</td><td>100</td><td>74</td><td>Secret Love Song (feat. Jason Derulo)</td><td>Little Mix</td></tr><tr><td>1057395242</td><td>Secret Love Song (feat. Jason Derulo)</td><td>Little Mix</td><td>Get Weird (Expanded Edition)</td><td>100</td><td>Fora do Top 100</td><td>null</td><td>null</td></tr></tbody></table></div>"
      ]
     },
     "metadata": {
      "application/vnd.databricks.v1+output": {
       "addedWidgets": {},
       "aggData": [],
       "aggError": "",
       "aggOverflow": false,
       "aggSchema": [],
       "aggSeriesLimitReached": false,
       "aggType": "",
       "arguments": {},
       "columnCustomDisplayInfos": {},
       "data": [
        [
         2373296555,
         "Home",
         "HAIM",
         "Barbie The Album",
         1,
         "Fora do Top 100",
         null,
         null
        ],
        [
         1509486932,
         "22 Break",
         "Oh Wonder",
         "22 Break",
         2,
         "8",
         "Seasons",
         "Thirty Seconds to Mars"
        ],
        [
         1509486942,
         "Free",
         "Oh Wonder",
         "22 Break",
         3,
         "9",
         "Ahay",
         "Of Monsters And Men"
        ],
        [
         2444545705,
         "Seasons",
         "Thirty Seconds to Mars",
         "It’s The End Of The World But It’s A Beautiful Day",
         4,
         "2",
         "Get Up Kid",
         "Thirty Seconds to Mars"
        ],
        [
         716516292,
         "Ahay",
         "Of Monsters And Men",
         "FEVER DREAM",
         5,
         "3",
         "Stuck",
         "Thirty Seconds to Mars"
        ],
        [
         2422608825,
         "Used To Be Young",
         "Miley Cyrus",
         "Used To Be Young",
         6,
         "69",
         "Life Is Beautiful",
         "Thirty Seconds to Mars"
        ],
        [
         2444545715,
         "Get Up Kid",
         "Thirty Seconds to Mars",
         "It’s The End Of The World But It’s A Beautiful Day",
         7,
         "4",
         "Down",
         "Oh Wonder"
        ],
        [
         2444545695,
         "Life Is Beautiful",
         "Thirty Seconds to Mars",
         "It’s The End Of The World But It’s A Beautiful Day",
         8,
         "6",
         "22 Break",
         "Oh Wonder"
        ],
        [
         2444545685,
         "Stuck",
         "Thirty Seconds to Mars",
         "It’s The End Of The World But It’s A Beautiful Day",
         9,
         "5",
         "Free",
         "Oh Wonder"
        ],
        [
         2444545725,
         "Love These Days",
         "Thirty Seconds to Mars",
         "It’s The End Of The World But It’s A Beautiful Day",
         10,
         "29",
         "Baby",
         "Oh Wonder"
        ],
        [
         1509486922,
         "Down",
         "Oh Wonder",
         "22 Break",
         11,
         "7",
         "Seasons",
         "Thirty Seconds to Mars"
        ],
        [
         422942802,
         "Listen",
         "Nico & Vinz",
         "Elephant in the Room",
         12,
         "Fora do Top 100",
         "Can We Always Be Friends?",
         "Oh Wonder"
        ],
        [
         1509486912,
         "Baby",
         "Oh Wonder",
         "22 Break",
         13,
         "10",
         "Get Up Kid",
         "Thirty Seconds to Mars"
        ],
        [
         2401836615,
         "Seasons",
         "Thirty Seconds to Mars",
         "Seasons",
         14,
         "11",
         "22 Make",
         "Oh Wonder"
        ],
        [
         1509486952,
         "Don't Let The Neighbourhood Hear",
         "Oh Wonder",
         "22 Break",
         15,
         "Fora do Top 100",
         "Twenty Fourteen",
         "Oh Wonder"
        ],
        [
         1825919807,
         "Can We Always Be Friends?",
         "Oh Wonder",
         "22 Make",
         16,
         "12",
         "Love Me Now",
         "Oh Wonder"
        ],
        [
         95890648,
         "Tourne",
         "Louane",
         "Chambre 12",
         17,
         "Fora do Top 100",
         "Keep On Dancing",
         "Oh Wonder"
        ],
        [
         2422952525,
         "Single Soon",
         "Selena Gomez",
         "Single Soon",
         18,
         "70",
         "You > Me",
         "Oh Wonder"
        ],
        [
         2358392655,
         "Get Up Kid",
         "Thirty Seconds to Mars",
         "Get Up Kid",
         19,
         "13",
         "Kicking The Doors Down",
         "Oh Wonder"
        ],
        [
         511062632,
         "Plastic Rose",
         "Maroon 5",
         "Red Pill Blues (Deluxe)",
         20,
         "Fora do Top 100",
         "Lonely Star",
         "Oh Wonder"
        ],
        [
         2401967315,
         "Vertigo",
         "Griff",
         "Vertigo",
         21,
         "Fora do Top 100",
         "The Greatest",
         "Tones and I"
        ],
        [
         1825919757,
         "22 Make",
         "Oh Wonder",
         "22 Make",
         22,
         "14",
         "Magnificent",
         "Oh Wonder"
        ],
        [
         1509487012,
         "Twenty Fourteen",
         "Oh Wonder",
         "22 Break",
         23,
         "15",
         "Chemical",
         "Post Malone"
        ],
        [
         1509486982,
         "Love Me Now",
         "Oh Wonder",
         "22 Break",
         24,
         "16",
         "Neon Lights (Rock Version)",
         "Demi Lovato"
        ],
        [
         134971752,
         "Waiting for a Friend",
         "The Pretty Reckless",
         "Going to Hell",
         25,
         "Fora do Top 100",
         "Skyscraper (Rock Version)",
         "Demi Lovato"
        ],
        [
         998807332,
         "Keep On Dancing",
         "Oh Wonder",
         "Home Tapes",
         26,
         "17",
         "Tell Me You Love Me (Rock Version)",
         "Demi Lovato"
        ],
        [
         1509487002,
         "Kicking The Doors Down",
         "Oh Wonder",
         "22 Break",
         27,
         "19",
         "Let Me Go (feat. Chad Kroeger)",
         "Avril Lavigne"
        ],
        [
         1509486992,
         "You > Me",
         "Oh Wonder",
         "22 Break",
         28,
         "18",
         "World On Fire",
         "Thirty Seconds to Mars"
        ],
        [
         2371561395,
         "The Greatest",
         "Tones and I",
         "The Greatest",
         29,
         "21",
         "Love These Days",
         "Thirty Seconds to Mars"
        ],
        [
         998807322,
         "Lonely Star",
         "Oh Wonder",
         "Home Tapes",
         30,
         "20",
         "7:1",
         "Thirty Seconds to Mars"
        ],
        [
         2182389147,
         "Jaded",
         "Miley Cyrus",
         "Endless Summer Vacation",
         31,
         "73",
         "True Romance",
         "Oh Wonder"
        ],
        [
         2450784825,
         "Sweet Relief",
         "Madison Beer",
         "Silence Between Songs",
         32,
         "Fora do Top 100",
         "Padam Padam",
         "Kylie Minogue"
        ],
        [
         1974968677,
         "Bends",
         "Carly Rae Jepsen",
         "The Loneliest Time",
         33,
         "Fora do Top 100",
         "The Silence",
         "Bastille"
        ],
        [
         2444544125,
         "Neon Lights (Rock Version)",
         "Demi Lovato",
         "REVAMPED",
         34,
         "24",
         "Barbie World (with Aqua)",
         "Nicki Minaj"
        ],
        [
         2444544115,
         "Tell Me You Love Me (Rock Version)",
         "Demi Lovato",
         "REVAMPED",
         35,
         "26",
         "Two Pieces",
         "Demi Lovato"
        ],
        [
         2444544135,
         "Skyscraper (Rock Version)",
         "Demi Lovato",
         "REVAMPED",
         36,
         "25",
         "Better Version",
         "FLETCHER"
        ],
        [
         2390575185,
         "Chemical",
         "Post Malone",
         "AUSTIN (Bonus)",
         37,
         "23",
         "Love Song",
         "LP"
        ],
        [
         637567872,
         "Let Me Go (feat. Chad Kroeger)",
         "Avril Lavigne",
         "Avril Lavigne (Expanded Edition)",
         38,
         "27",
         "2 Die 4",
         "Addison Rae"
        ],
        [
         2312236085,
         "Padam Padam",
         "Kylie Minogue",
         "Padam Padam",
         39,
         "32",
         "vampire",
         "Olivia Rodrigo"
        ],
        [
         1825919767,
         "Magnificent",
         "Oh Wonder",
         "22 Make",
         40,
         "22",
         "Avalanche",
         "Thirty Seconds to Mars"
        ],
        [
         2373296485,
         "Barbie World (with Aqua)",
         "Nicki Minaj",
         "Barbie The Album",
         41,
         "34",
         "Gimme Love",
         "Sia"
        ],
        [
         2444545735,
         "World On Fire",
         "Thirty Seconds to Mars",
         "It’s The End Of The World But It’s A Beautiful Day",
         42,
         "28",
         "Lost These Days",
         "Thirty Seconds to Mars"
        ],
        [
         2444545745,
         "7:1",
         "Thirty Seconds to Mars",
         "It’s The End Of The World But It’s A Beautiful Day",
         43,
         "30",
         "Apollo",
         "Oh Wonder"
        ],
        [
         2290123805,
         "Middle Ground",
         "Maroon 5",
         "Middle Ground",
         44,
         "95",
         "South of the Border (feat. Camila Cabello & Cardi B)",
         "Ed Sheeran"
        ],
        [
         2440763155,
         "vampire",
         "Olivia Rodrigo",
         "GUTS",
         45,
         "39",
         "logical",
         "Olivia Rodrigo"
        ],
        [
         565343412,
         "Purple Like the Summer Rain",
         "MØ",
         "Forever Neverland",
         46,
         "Fora do Top 100",
         "Curtains",
         "Ed Sheeran"
        ],
        [
         72371368,
         "The Silence",
         "Bastille",
         "All This Bad Blood",
         47,
         "33",
         "Monster",
         "Imagine Dragons"
        ],
        [
         89824483,
         "Two Pieces",
         "Demi Lovato",
         "Demi (Deluxe)",
         48,
         "35",
         "Whippin (feat. Felix Snow)",
         "Kiiara"
        ],
        [
         73135389,
         "I See Fire (From \"The Hobbit - The Desolation Of Smaug\")",
         "Ed Sheeran",
         "The Hobbit - The Desolation Of Smaug (Original Motion Picture Soundtrack / Special Edition)",
         49,
         "Fora do Top 100",
         "Children of the Sky (a Starfield song)",
         "Imagine Dragons"
        ],
        [
         2404528875,
         "Lipstick",
         "Charlie Puth",
         "Lipstick",
         50,
         "Fora do Top 100",
         "Eyes Closed",
         "Ed Sheeran"
        ],
        [
         2019706107,
         "Better Version",
         "FLETCHER",
         "Girl Of My Dreams (Deluxe)",
         51,
         "36",
         "Middle Ground",
         "Maroon 5"
        ],
        [
         710164312,
         "South of the Border (feat. Camila Cabello & Cardi B)",
         "Ed Sheeran",
         "No.6 Collaborations Project",
         52,
         "44",
         "All I Want",
         "Kodaline"
        ],
        [
         866230302,
         "Hallelujah (Acoustic)",
         "Oh Wonder",
         "No One Else Can Wear Your Crown (Deluxe)",
         53,
         "Fora do Top 100",
         "All We Do",
         "Oh Wonder"
        ],
        [
         1825919777,
         "True Romance",
         "Oh Wonder",
         "22 Make",
         54,
         "31",
         "Benson Hedges",
         "fun."
        ],
        [
         642674252,
         "Strangers",
         "Sigrid",
         "Sucker Punch",
         55,
         "Fora do Top 100",
         "The Sharing Song",
         "Jack Johnson"
        ],
        [
         1873276817,
         "Future Holds",
         "Bastille",
         "Give Me The Future + Dreams Of The Past",
         56,
         "Fora do Top 100",
         "I Wish I Never Met You",
         "Oh Wonder"
        ],
        [
         1963688547,
         "2 Die 4",
         "Addison Rae",
         "Like A Dream",
         57,
         "38",
         "Confident (Rock Version)",
         "Demi Lovato"
        ],
        [
         2260091167,
         "Love Song",
         "LP",
         "Love Lines",
         58,
         "37",
         "Throwback Love",
         "Meghan Trainor"
        ],
        [
         2414222995,
         "Gimme Love",
         "Sia",
         "Gimme Love",
         59,
         "41",
         "The Unknown",
         "Imagine Dragons"
        ],
        [
         2444545775,
         "Lost These Days",
         "Thirty Seconds to Mars",
         "It’s The End Of The World But It’s A Beautiful Day",
         60,
         "42",
         "What Lovers Do",
         "Maroon 5"
        ],
        [
         2444545785,
         "Avalanche",
         "Thirty Seconds to Mars",
         "It’s The End Of The World But It’s A Beautiful Day",
         61,
         "40",
         "Everything Back But You",
         "Avril Lavigne"
        ],
        [
         1234517832,
         "Whippin (feat. Felix Snow)",
         "Kiiara",
         "lil kiiwi (Deluxe)",
         62,
         "48",
         "Anti-Hero",
         "Taylor Swift"
        ],
        [
         2383933455,
         "Dream Of Running",
         "Jasmine Jethwa",
         "Dream Of Running",
         63,
         "Fora do Top 100",
         "Messy",
         "Kiiara"
        ],
        [
         16015027,
         "Best Thing I Never Had",
         "Beyoncé",
         "4",
         64,
         "Fora do Top 100",
         "My Mind & Me",
         "Selena Gomez"
        ],
        [
         2248677207,
         "Only Girl",
         "Stephen Sanchez",
         "Only Girl",
         65,
         "Fora do Top 100",
         "Upside Down",
         "Jack Johnson"
        ],
        [
         2195470737,
         "SunKissing",
         "Hailee Steinfeld",
         "SunKissing",
         66,
         "Fora do Top 100",
         "bad idea right?",
         "Olivia Rodrigo"
        ],
        [
         2376677085,
         "Fruit (Red, White & Royal Blue Version) [From the Amazon Original Movie \"Red, White & Royal Blue\"]",
         "Oliver Sim",
         "Fruit (Red, White & Royal Blue Version) [From the Amazon Original Movie \"Red, White & Royal Blue\"]",
         67,
         "Fora do Top 100",
         "Heart Hope",
         "Oh Wonder"
        ],
        [
         106061624,
         "Heart Hope",
         "Oh Wonder",
         "Oh Wonder",
         67,
         "Fora do Top 100",
         null,
         null
        ],
        [
         133584896,
         "Choke",
         "OneRepublic",
         "Oh My My (Deluxe)",
         68,
         "Fora do Top 100",
         "all-american bitch",
         "Olivia Rodrigo"
        ],
        [
         2358152085,
         "Quiet [from the Netflix Film ‘Heart of Stone’]",
         "Noga Erez",
         "Quiet [from the Netflix Film ‘Heart of Stone’]",
         69,
         "Fora do Top 100",
         "Used To Be Young",
         "Miley Cyrus"
        ],
        [
         2413041885,
         "First Light",
         "Hozier",
         "Unreal Unearth",
         70,
         "Fora do Top 100",
         "Single Soon",
         "Selena Gomez"
        ],
        [
         2256073517,
         "Curtains",
         "Ed Sheeran",
         "- (Deluxe)",
         71,
         "46",
         "Uncover",
         "Zara Larsson"
        ],
        [
         93194632,
         "Uncover",
         "Zara Larsson",
         "Uncover",
         71,
         "Fora do Top 100",
         null,
         null
        ],
        [
         2196044807,
         "Eyes Closed",
         "Ed Sheeran",
         "Eyes Closed",
         72,
         "50",
         "Queens",
         "MisterWives"
        ],
        [
         109701586,
         "Monster",
         "Imagine Dragons",
         "Smoke + Mirrors (Deluxe)",
         73,
         "47",
         "Jaded",
         "Miley Cyrus"
        ],
        [
         2378895615,
         "Elevator Eyes",
         "Tove Lo",
         "Dirt Femme (Extended Cut)",
         74,
         "Fora do Top 100",
         "I'm with You",
         "Avril Lavigne"
        ],
        [
         2440763195,
         "logical",
         "Olivia Rodrigo",
         "GUTS",
         75,
         "45",
         "Start Me Up (Remastered 2009)",
         "The Rolling Stones"
        ],
        [
         4125592,
         "Start Me Up (Remastered 2009)",
         "The Rolling Stones",
         "Tattoo You (2009 Re-Mastered)",
         75,
         "Fora do Top 100",
         null,
         null
        ],
        [
         1825919827,
         "Apollo",
         "Oh Wonder",
         "22 Make",
         76,
         "43",
         "You Can't Always Get What You Want (Remastered 2019)",
         "The Rolling Stones"
        ],
        [
         788563832,
         "You Can't Always Get What You Want (Remastered 2019)",
         "The Rolling Stones",
         "Let It Bleed (50th Anniversary Edition / Remastered 2019)",
         76,
         "Fora do Top 100",
         null,
         null
        ],
        [
         866230282,
         "I Wish I Never Met You",
         "Oh Wonder",
         "No One Else Can Wear Your Crown (Deluxe)",
         77,
         "56",
         "Man I Am",
         "Sam Smith"
        ],
        [
         2424631215,
         "Children of the Sky (a Starfield song)",
         "Imagine Dragons",
         "Children of the Sky (a Starfield song)",
         78,
         "49",
         "Don't Forget (Rock Version)",
         "Demi Lovato"
        ],
        [
         2444544165,
         "Don't Forget (Rock Version)",
         "Demi Lovato",
         "REVAMPED",
         78,
         "Fora do Top 100",
         null,
         null
        ],
        [
         2402233625,
         "Middle Ground",
         "Maroon 5",
         "Middle Ground",
         79,
         "51",
         "La La Land (Rock Version)",
         "Demi Lovato"
        ],
        [
         2444544145,
         "La La Land (Rock Version)",
         "Demi Lovato",
         "REVAMPED",
         79,
         "Fora do Top 100",
         null,
         null
        ],
        [
         1600551752,
         "Benson Hedges",
         "fun.",
         "Aim and Ignite (Deluxe Version)",
         80,
         "54",
         "Give Your Heart A Break (Rock Version)",
         "Demi Lovato"
        ],
        [
         2444544155,
         "Give Your Heart A Break (Rock Version)",
         "Demi Lovato",
         "REVAMPED",
         80,
         "Fora do Top 100",
         null,
         null
        ],
        [
         539765092,
         "The Sharing Song",
         "Jack Johnson",
         "Jack Johnson And Friends: Sing-A-Longs And Lullabies For The Film Curious George",
         81,
         "55",
         "MORE THAN YOU KNOW",
         "blink-182"
        ],
        [
         2459579105,
         "MORE THAN YOU KNOW",
         "blink-182",
         "ONE MORE TIME / MORE THAN YOU KNOW",
         81,
         "Fora do Top 100",
         null,
         null
        ],
        [
         1251001372,
         "Throwback Love",
         "Meghan Trainor",
         "The Love Train",
         82,
         "58",
         "Caught in the Middle",
         "Paramore"
        ],
        [
         358658271,
         "Caught in the Middle",
         "Paramore",
         "After Laughter",
         82,
         "Fora do Top 100",
         null,
         null
        ],
        [
         2444544085,
         "Confident (Rock Version)",
         "Demi Lovato",
         "REVAMPED",
         83,
         "57",
         "I Won't",
         "AJR"
        ],
        [
         1834410167,
         "I Won't",
         "AJR",
         "I Won't",
         83,
         "Fora do Top 100",
         null,
         null
        ],
        [
         109701576,
         "The Unknown",
         "Imagine Dragons",
         "Smoke + Mirrors (Deluxe)",
         84,
         "59",
         "Domesticated Animals",
         "Queens of the Stone Age"
        ],
        [
         394886422,
         "Domesticated Animals",
         "Queens of the Stone Age",
         "Villains",
         84,
         "Fora do Top 100",
         null,
         null
        ],
        [
         511062522,
         "What Lovers Do",
         "Maroon 5",
         "Red Pill Blues (Deluxe)",
         85,
         "60",
         "Good Old Days (feat. Kesha)",
         "Macklemore"
        ],
        [
         397729462,
         "Good Old Days (feat. Kesha)",
         "Macklemore",
         "GEMINI",
         85,
         "Fora do Top 100",
         null,
         null
        ],
        [
         2440763135,
         "all-american bitch",
         "Olivia Rodrigo",
         "GUTS",
         86,
         "68",
         "Happy",
         "Oh Wonder"
        ],
        [
         866230212,
         "Happy",
         "Oh Wonder",
         "No One Else Can Wear Your Crown (Deluxe)",
         86,
         "Fora do Top 100",
         null,
         null
        ],
        [
         2440763145,
         "bad idea right?",
         "Olivia Rodrigo",
         "GUTS",
         87,
         "66",
         "As It Was",
         "Harry Styles"
        ],
        [
         1703487577,
         "As It Was",
         "Harry Styles",
         "As It Was",
         87,
         "Fora do Top 100",
         null,
         null
        ],
        [
         1976903157,
         "Anti-Hero",
         "Taylor Swift",
         "Midnights",
         88,
         "62",
         "Death's Song",
         "City and Colour"
        ],
        [
         372640111,
         "Death's Song",
         "City and Colour",
         "The Hurry and the Harm",
         88,
         "Fora do Top 100",
         null,
         null
        ],
        [
         927608952,
         "All I Want",
         "Kodaline",
         "In A Perfect World (Expanded Edition)",
         89,
         "52",
         "Solo",
         "Carly Rae Jepsen"
        ],
        [
         963368642,
         "Solo",
         "Carly Rae Jepsen",
         "Dedicated Side B",
         89,
         "Fora do Top 100",
         null,
         null
        ],
        [
         106061618,
         "All We Do",
         "Oh Wonder",
         "Oh Wonder",
         90,
         "53",
         "Socialite",
         "Post Malone"
        ],
        [
         2390575235,
         "Socialite",
         "Post Malone",
         "AUSTIN (Bonus)",
         90,
         "Fora do Top 100",
         null,
         null
        ],
        [
         2373681675,
         "Love Like This",
         "ZAYN",
         "Love Like This",
         91,
         "Fora do Top 100",
         "Wrecking Ball",
         "Miley Cyrus"
        ],
        [
         71137166,
         "Wrecking Ball",
         "Miley Cyrus",
         "Bangerz (Deluxe Version)",
         91,
         "Fora do Top 100",
         null,
         null
        ],
        [
         1234517922,
         "Messy",
         "Kiiara",
         "lil kiiwi (Deluxe)",
         92,
         "63",
         "No One Dies From Love",
         "Tove Lo"
        ],
        [
         2378895645,
         "No One Dies From Love",
         "Tove Lo",
         "Dirt Femme (Extended Cut)",
         92,
         "Fora do Top 100",
         null,
         null
        ],
        [
         1998292697,
         "My Mind & Me",
         "Selena Gomez",
         "My Mind & Me",
         93,
         "64",
         "Ghost",
         "Justin Bieber"
        ],
        [
         1280165212,
         "Ghost",
         "Justin Bieber",
         "Justice",
         93,
         "Fora do Top 100",
         null,
         null
        ],
        [
         580705302,
         "Joan of Arc",
         "Little Mix",
         "LM5 (Expanded Edition)",
         94,
         "Fora do Top 100",
         "Drunk On You (Acoustic)",
         "Oh Wonder"
        ],
        [
         866230332,
         "Drunk On You (Acoustic)",
         "Oh Wonder",
         "No One Else Can Wear Your Crown (Deluxe)",
         94,
         "Fora do Top 100",
         null,
         null
        ],
        [
         1241553222,
         "The Steps",
         "HAIM",
         "Women In Music Pt. III (Expanded Edition)",
         95,
         "Fora do Top 100",
         "Middle Ground",
         "Maroon 5"
        ],
        [
         94754790,
         "Queens",
         "MisterWives",
         "Our Own House",
         96,
         "72",
         "My Sacrifice",
         "Creed"
        ],
        [
         80274650,
         "My Sacrifice",
         "Creed",
         "Weathered",
         96,
         "Fora do Top 100",
         null,
         null
        ],
        [
         13705101,
         "Everything Back But You",
         "Avril Lavigne",
         "The Best Damn Thing (Expanded Edition)",
         97,
         "61",
         "If I Were You",
         "Rosa Linn"
        ],
        [
         2331349905,
         "If I Were You",
         "Rosa Linn",
         "Lay Your Hands Upon My Heart",
         97,
         "Fora do Top 100",
         null,
         null
        ],
        [
         2373296515,
         "Man I Am",
         "Sam Smith",
         "Barbie The Album",
         98,
         "77",
         "You’re Not Alone",
         "Owl City"
        ],
        [
         103050450,
         "You’re Not Alone",
         "Owl City",
         "Mobile Orchestra",
         98,
         "Fora do Top 100",
         null,
         null
        ],
        [
         539765022,
         "Upside Down",
         "Jack Johnson",
         "Jack Johnson And Friends: Sing-A-Longs And Lullabies For The Film Curious George",
         99,
         "65",
         "Late Night Talking",
         "Harry Styles"
        ],
        [
         1756569577,
         "Late Night Talking",
         "Harry Styles",
         "Harry's House",
         99,
         "Fora do Top 100",
         null,
         null
        ],
        [
         15587475,
         "I'm with You",
         "Avril Lavigne",
         "Let Go",
         100,
         "74",
         "Secret Love Song (feat. Jason Derulo)",
         "Little Mix"
        ],
        [
         1057395242,
         "Secret Love Song (feat. Jason Derulo)",
         "Little Mix",
         "Get Weird (Expanded Edition)",
         100,
         "Fora do Top 100",
         null,
         null
        ]
       ],
       "datasetInfos": [],
       "dbfsResultPath": null,
       "isJsonSchema": true,
       "metadata": {},
       "overflow": false,
       "plotOptions": {
        "customPlotOptions": {},
        "displayType": "table",
        "pivotAggregation": null,
        "pivotColumns": null,
        "xColumns": null,
        "yColumns": null
       },
       "removedWidgets": [],
       "schema": [
        {
         "metadata": "{}",
         "name": "id",
         "type": "\"long\""
        },
        {
         "metadata": "{}",
         "name": "TITLE",
         "type": "\"string\""
        },
        {
         "metadata": "{}",
         "name": "ARTIST_NAME",
         "type": "\"string\""
        },
        {
         "metadata": "{}",
         "name": "ALBUM_TITLE",
         "type": "\"string\""
        },
        {
         "metadata": "{}",
         "name": "CHART",
         "type": "\"long\""
        },
        {
         "metadata": "{}",
         "name": "LAST_ONE",
         "type": "\"string\""
        },
        {
         "metadata": "{}",
         "name": "LAST_SONG_IN_THIS_CHART",
         "type": "\"string\""
        },
        {
         "metadata": "{}",
         "name": "AN_FROM_LS_IN_THIS_CHART",
         "type": "\"string\""
        }
       ],
       "type": "table"
      }
     },
     "output_type": "display_data"
    }
   ],
   "source": [
    "# (spark.sql('''\n",
    "#           SELECT\n",
    "#             TITLE, \n",
    "#             ARTIST.NAME as ARTIST_NAME, \n",
    "#             ALBUM.TITLE AS ALBUM_TITLE, \n",
    "#             CHART,\n",
    "#             COALESCE(\n",
    "#                 LAG(CHART) OVER (PARTITION BY id ORDER BY `TIMESTAMP` ASC), 'Fora do Top 100') AS LAST_ONE,\n",
    "#             LAG(TITLE) OVER (PARTITION BY CHART ORDER BY `TIMESTAMP` ASC) AS LAST_SONG_IN_THIS_CHART,\n",
    "#             LAG(ARTIST.NAME) OVER (PARTITION BY CHART ORDER BY `TIMESTAMP` ASC) AS AN_FROM_LS_IN_THIS_CHART\n",
    "#           FROM\n",
    "#             BRONZE.DEEZER_CHARTS \n",
    "#           QUALIFY \n",
    "#             ROW_NUMBER() OVER (PARTITION BY id ORDER BY `TIMESTAMP` DESC) = 1\n",
    "#           ORDER BY \n",
    "#             CHART ASC, `TIMESTAMP` DESC\n",
    "#           ''')\n",
    "#           .display()\n",
    "# )"
   ]
  },
  {
   "cell_type": "code",
   "execution_count": null,
   "metadata": {
    "application/vnd.databricks.v1+cell": {
     "cellMetadata": {
      "byteLimit": 2048000,
      "rowLimit": 10000
     },
     "inputWidgets": {},
     "nuid": "6445a523-9ea1-4715-92b7-2e77f1dcbcc7",
     "showTitle": false,
     "title": ""
    }
   },
   "outputs": [
    {
     "data": {
      "text/html": [
       "<style scoped>\n",
       "  .table-result-container {\n",
       "    max-height: 300px;\n",
       "    overflow: auto;\n",
       "  }\n",
       "  table, th, td {\n",
       "    border: 1px solid black;\n",
       "    border-collapse: collapse;\n",
       "  }\n",
       "  th, td {\n",
       "    padding: 5px;\n",
       "  }\n",
       "  th {\n",
       "    text-align: left;\n",
       "  }\n",
       "</style><div class='table-result-container'><table class='table-result'><thead style='background-color: white'><tr><th>fav_artist</th><th>num_aparicoes</th><th>fav_song</th></tr></thead><tbody><tr><td>Demi Lovato</td><td>15</td><td>Tell Me You Love Me (Rock Version)</td></tr><tr><td>Oh Wonder</td><td>11</td><td>I Wish I Never Met You</td></tr><tr><td>Ed Sheeran</td><td>9</td><td>Curtains</td></tr><tr><td>Thirty Seconds to Mars</td><td>9</td><td>Seasons</td></tr><tr><td>Post Malone</td><td>8</td><td>Chemical</td></tr><tr><td>Olivia Rodrigo</td><td>7</td><td>vampire</td></tr><tr><td>Miley Cyrus</td><td>7</td><td>Jaded</td></tr><tr><td>Maroon 5</td><td>6</td><td>What Lovers Do</td></tr><tr><td>Jack Johnson</td><td>5</td><td>The Sharing Song</td></tr><tr><td>Harry Styles</td><td>4</td><td>As It Was</td></tr><tr><td>Bastille</td><td>4</td><td>The Silence</td></tr><tr><td>Kiiara</td><td>4</td><td>Whippin (feat. Felix Snow)</td></tr><tr><td>OneRepublic</td><td>4</td><td>Didn't I</td></tr><tr><td>Selena Gomez</td><td>4</td><td>My Mind & Me</td></tr><tr><td>City and Colour</td><td>4</td><td>Death's Song</td></tr><tr><td>Imagine Dragons</td><td>4</td><td>The Unknown</td></tr><tr><td>Avril Lavigne</td><td>4</td><td>Let Me Go (feat. Chad Kroeger)</td></tr><tr><td>Two Door Cinema Club</td><td>3</td><td>What You Know (Cassian Remix)</td></tr><tr><td>Macklemore</td><td>3</td><td>Good Old Days (feat. Kesha)</td></tr><tr><td>Sam Smith</td><td>3</td><td>Man I Am</td></tr><tr><td>Tove Lo</td><td>3</td><td>No One Dies From Love</td></tr><tr><td>The Weeknd</td><td>3</td><td>Die For You (Remix)</td></tr><tr><td>Fall Out Boy</td><td>3</td><td>The Pros and Cons of Breathing</td></tr><tr><td>Rihanna</td><td>2</td><td>Lift Me Up (From Black Panther: Wakanda Forever - Music From and Inspired By)</td></tr><tr><td>Coldplay</td><td>2</td><td>Hymn for the Weekend</td></tr><tr><td>Little Mix</td><td>2</td><td>Secret Love Song (feat. Jason Derulo)</td></tr><tr><td>HAIM</td><td>2</td><td>Home</td></tr><tr><td>Owl City</td><td>2</td><td>You’re Not Alone</td></tr><tr><td>Taylor Swift</td><td>2</td><td>Anti-Hero</td></tr><tr><td>Paramore</td><td>2</td><td>Caught in the Middle</td></tr><tr><td>blink-182</td><td>2</td><td>MORE THAN YOU KNOW</td></tr><tr><td>Kylie Minogue</td><td>2</td><td>Padam Padam</td></tr><tr><td>Meghan Trainor</td><td>2</td><td>Throwback Love</td></tr><tr><td>Ariana Grande</td><td>2</td><td>main thing</td></tr><tr><td>Tones and I</td><td>2</td><td>The Greatest</td></tr><tr><td>Major Lazer</td><td>2</td><td>Hell and High Water (feat. Alessia Cara)</td></tr><tr><td>Carly Rae Jepsen</td><td>2</td><td>Solo</td></tr><tr><td>Skillet</td><td>2</td><td>Would It Matter</td></tr><tr><td>Queens of the Stone Age</td><td>2</td><td>Domesticated Animals</td></tr><tr><td>MisterWives</td><td>2</td><td>Queens</td></tr><tr><td>The Rolling Stones</td><td>2</td><td>Start Me Up (Remastered 2009)</td></tr><tr><td>Justin Bieber</td><td>2</td><td>Ghost</td></tr><tr><td>Creed</td><td>2</td><td>My Sacrifice</td></tr><tr><td>fun.</td><td>2</td><td>Benson Hedges</td></tr><tr><td>The Score</td><td>2</td><td>All Of Me</td></tr><tr><td>Sia</td><td>2</td><td>Gimme Love</td></tr><tr><td>Niall Horan</td><td>2</td><td>Meltdown</td></tr><tr><td>AJR</td><td>2</td><td>I Won't</td></tr><tr><td>Nicki Minaj</td><td>2</td><td>Barbie World (with Aqua)</td></tr><tr><td>Red Hot Chili Peppers</td><td>2</td><td>Stretch You Out (2006 Remaster)</td></tr><tr><td>Emicida</td><td>1</td><td>Libre</td></tr><tr><td>KALEO</td><td>1</td><td>Way down We Go</td></tr><tr><td>AURORA</td><td>1</td><td>Wisdom Cries</td></tr><tr><td>Of Monsters And Men</td><td>1</td><td>Ahay</td></tr><tr><td>FLETCHER</td><td>1</td><td>Better Version</td></tr><tr><td>LP</td><td>1</td><td>Love Song</td></tr><tr><td>The Pretty Reckless</td><td>1</td><td>Waiting for a Friend</td></tr><tr><td>Halsey</td><td>1</td><td>Strange Love</td></tr><tr><td>Snow Patrol</td><td>1</td><td>If I'd Found the Right Words to Say</td></tr><tr><td>Jennifer Lopez</td><td>1</td><td>Get Right (featuring Fabolous)</td></tr><tr><td>Palaye Royale</td><td>1</td><td>Nightmares</td></tr><tr><td>Lizzo</td><td>1</td><td>Special (feat. SZA)</td></tr><tr><td>Zara Larsson</td><td>1</td><td>Uncover</td></tr><tr><td>Rosalía</td><td>1</td><td>LLYLM</td></tr><tr><td>Gwen Stefani</td><td>1</td><td>True Babe</td></tr><tr><td>Rosa Linn</td><td>1</td><td>If I Were You</td></tr><tr><td>Addison Rae</td><td>1</td><td>2 Die 4</td></tr><tr><td>Lorde</td><td>1</td><td>Solar Power</td></tr><tr><td>Passenger</td><td>1</td><td>Let Her Go</td></tr></tbody></table></div>"
      ]
     },
     "metadata": {
      "application/vnd.databricks.v1+output": {
       "addedWidgets": {},
       "aggData": [],
       "aggError": "",
       "aggOverflow": false,
       "aggSchema": [],
       "aggSeriesLimitReached": false,
       "aggType": "",
       "arguments": {},
       "columnCustomDisplayInfos": {},
       "data": [
        [
         "Demi Lovato",
         15,
         "Tell Me You Love Me (Rock Version)"
        ],
        [
         "Oh Wonder",
         11,
         "I Wish I Never Met You"
        ],
        [
         "Ed Sheeran",
         9,
         "Curtains"
        ],
        [
         "Thirty Seconds to Mars",
         9,
         "Seasons"
        ],
        [
         "Post Malone",
         8,
         "Chemical"
        ],
        [
         "Olivia Rodrigo",
         7,
         "vampire"
        ],
        [
         "Miley Cyrus",
         7,
         "Jaded"
        ],
        [
         "Maroon 5",
         6,
         "What Lovers Do"
        ],
        [
         "Jack Johnson",
         5,
         "The Sharing Song"
        ],
        [
         "Harry Styles",
         4,
         "As It Was"
        ],
        [
         "Bastille",
         4,
         "The Silence"
        ],
        [
         "Kiiara",
         4,
         "Whippin (feat. Felix Snow)"
        ],
        [
         "OneRepublic",
         4,
         "Didn't I"
        ],
        [
         "Selena Gomez",
         4,
         "My Mind & Me"
        ],
        [
         "City and Colour",
         4,
         "Death's Song"
        ],
        [
         "Imagine Dragons",
         4,
         "The Unknown"
        ],
        [
         "Avril Lavigne",
         4,
         "Let Me Go (feat. Chad Kroeger)"
        ],
        [
         "Two Door Cinema Club",
         3,
         "What You Know (Cassian Remix)"
        ],
        [
         "Macklemore",
         3,
         "Good Old Days (feat. Kesha)"
        ],
        [
         "Sam Smith",
         3,
         "Man I Am"
        ],
        [
         "Tove Lo",
         3,
         "No One Dies From Love"
        ],
        [
         "The Weeknd",
         3,
         "Die For You (Remix)"
        ],
        [
         "Fall Out Boy",
         3,
         "The Pros and Cons of Breathing"
        ],
        [
         "Rihanna",
         2,
         "Lift Me Up (From Black Panther: Wakanda Forever - Music From and Inspired By)"
        ],
        [
         "Coldplay",
         2,
         "Hymn for the Weekend"
        ],
        [
         "Little Mix",
         2,
         "Secret Love Song (feat. Jason Derulo)"
        ],
        [
         "HAIM",
         2,
         "Home"
        ],
        [
         "Owl City",
         2,
         "You’re Not Alone"
        ],
        [
         "Taylor Swift",
         2,
         "Anti-Hero"
        ],
        [
         "Paramore",
         2,
         "Caught in the Middle"
        ],
        [
         "blink-182",
         2,
         "MORE THAN YOU KNOW"
        ],
        [
         "Kylie Minogue",
         2,
         "Padam Padam"
        ],
        [
         "Meghan Trainor",
         2,
         "Throwback Love"
        ],
        [
         "Ariana Grande",
         2,
         "main thing"
        ],
        [
         "Tones and I",
         2,
         "The Greatest"
        ],
        [
         "Major Lazer",
         2,
         "Hell and High Water (feat. Alessia Cara)"
        ],
        [
         "Carly Rae Jepsen",
         2,
         "Solo"
        ],
        [
         "Skillet",
         2,
         "Would It Matter"
        ],
        [
         "Queens of the Stone Age",
         2,
         "Domesticated Animals"
        ],
        [
         "MisterWives",
         2,
         "Queens"
        ],
        [
         "The Rolling Stones",
         2,
         "Start Me Up (Remastered 2009)"
        ],
        [
         "Justin Bieber",
         2,
         "Ghost"
        ],
        [
         "Creed",
         2,
         "My Sacrifice"
        ],
        [
         "fun.",
         2,
         "Benson Hedges"
        ],
        [
         "The Score",
         2,
         "All Of Me"
        ],
        [
         "Sia",
         2,
         "Gimme Love"
        ],
        [
         "Niall Horan",
         2,
         "Meltdown"
        ],
        [
         "AJR",
         2,
         "I Won't"
        ],
        [
         "Nicki Minaj",
         2,
         "Barbie World (with Aqua)"
        ],
        [
         "Red Hot Chili Peppers",
         2,
         "Stretch You Out (2006 Remaster)"
        ],
        [
         "Emicida",
         1,
         "Libre"
        ],
        [
         "KALEO",
         1,
         "Way down We Go"
        ],
        [
         "AURORA",
         1,
         "Wisdom Cries"
        ],
        [
         "Of Monsters And Men",
         1,
         "Ahay"
        ],
        [
         "FLETCHER",
         1,
         "Better Version"
        ],
        [
         "LP",
         1,
         "Love Song"
        ],
        [
         "The Pretty Reckless",
         1,
         "Waiting for a Friend"
        ],
        [
         "Halsey",
         1,
         "Strange Love"
        ],
        [
         "Snow Patrol",
         1,
         "If I'd Found the Right Words to Say"
        ],
        [
         "Jennifer Lopez",
         1,
         "Get Right (featuring Fabolous)"
        ],
        [
         "Palaye Royale",
         1,
         "Nightmares"
        ],
        [
         "Lizzo",
         1,
         "Special (feat. SZA)"
        ],
        [
         "Zara Larsson",
         1,
         "Uncover"
        ],
        [
         "Rosalía",
         1,
         "LLYLM"
        ],
        [
         "Gwen Stefani",
         1,
         "True Babe"
        ],
        [
         "Rosa Linn",
         1,
         "If I Were You"
        ],
        [
         "Addison Rae",
         1,
         "2 Die 4"
        ],
        [
         "Lorde",
         1,
         "Solar Power"
        ],
        [
         "Passenger",
         1,
         "Let Her Go"
        ]
       ],
       "datasetInfos": [],
       "dbfsResultPath": null,
       "isJsonSchema": true,
       "metadata": {},
       "overflow": false,
       "plotOptions": {
        "customPlotOptions": {},
        "displayType": "table",
        "pivotAggregation": null,
        "pivotColumns": null,
        "xColumns": null,
        "yColumns": null
       },
       "removedWidgets": [],
       "schema": [
        {
         "metadata": "{}",
         "name": "fav_artist",
         "type": "\"string\""
        },
        {
         "metadata": "{}",
         "name": "num_aparicoes",
         "type": "\"long\""
        },
        {
         "metadata": "{}",
         "name": "fav_song",
         "type": "\"string\""
        }
       ],
       "type": "table"
      }
     },
     "output_type": "display_data"
    }
   ],
   "source": [
    "# spark.sql('''\n",
    "#           with fav_artists as (\n",
    "#            select\n",
    "#             artist_name,\n",
    "#             count(artist_name) as num_aparicoes\n",
    "#           from\n",
    "#             bronze.deezer_charts\n",
    "#           group by\n",
    "#             artist_name\n",
    "#           order by\n",
    "#             num_aparicoes desc\n",
    "#           )\n",
    "#            select distinct\n",
    "#             t1.artist_name as fav_artist,\n",
    "#             t1.num_aparicoes,\n",
    "#             first_value(t2.title) over (partition by t2.artist_name order by t2.chart asc) as fav_song\n",
    "#           from \n",
    "#             fav_artists as t1\n",
    "#           inner join\n",
    "#             bronze.deezer_charts as t2\n",
    "#           using (artist_name)   \n",
    "#           order by\n",
    "#             num_aparicoes desc\n",
    "#           ''').display()"
   ]
  }
 ],
 "metadata": {
  "application/vnd.databricks.v1+notebook": {
   "dashboards": [],
   "language": "python",
   "notebookMetadata": {
    "mostRecentlyExecutedCommandWithImplicitDF": {
     "commandId": 3872265964726147,
     "dataframes": [
      "_sqldf"
     ]
    },
    "pythonIndentUnit": 4
   },
   "notebookName": "ingestion",
   "widgets": {}
  },
  "language_info": {
   "name": "python"
  }
 },
 "nbformat": 4,
 "nbformat_minor": 0
}
