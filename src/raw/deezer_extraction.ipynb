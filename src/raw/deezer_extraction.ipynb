{
 "cells": [
  {
   "cell_type": "code",
   "execution_count": null,
   "metadata": {
    "application/vnd.databricks.v1+cell": {
     "cellMetadata": {
      "byteLimit": 2048000,
      "rowLimit": 10000
     },
     "inputWidgets": {},
     "nuid": "75f39cdb-0555-4ecd-98e3-51faef9828f4",
     "showTitle": true,
     "title": "Imports"
    }
   },
   "outputs": [],
   "source": [
    "import os\n",
    "import json\n",
    "import pandas as pd\n",
    "import logging\n",
    "from datetime import datetime, timedelta\n",
    "from dateutil.relativedelta import relativedelta\n",
    "from dateutil import parser\n",
    "import requests\n",
    "from typing import Literal\n",
    "import itertools\n",
    "from pyspark.sql import SparkSession\n",
    "from pyspark.sql.dataframe import DataFrame as pyspark_df"
   ]
  },
  {
   "cell_type": "code",
   "execution_count": null,
   "metadata": {
    "application/vnd.databricks.v1+cell": {
     "cellMetadata": {
      "byteLimit": 2048000,
      "rowLimit": 10000
     },
     "inputWidgets": {},
     "nuid": "c531cf90-bc84-4407-a386-8d5e2e74d449",
     "showTitle": true,
     "title": "Class"
    }
   },
   "outputs": [],
   "source": [
    "class ExtractInfo:\n",
    "\n",
    "    def __init__(self, endpoint: Literal['history', 'charts'] = 'history'):\n",
    "        self.endpoint = endpoint\n",
    "        self.process_date = datetime.now()\n",
    "        self.interval = None\n",
    "        self.period = None\n",
    "        self.start_date = None\n",
    "        self.end_date = None\n",
    "        self.chart_id = itertools.count(start=1)\n",
    "        self.spark = spark\n",
    "\n",
    "        with open('/tmp/datalake/deezer/deezer_credentials.json') as f:\n",
    "            deezer_credentials = json.load(f)\n",
    "\n",
    "        self.user_id = deezer_credentials['user_id']\n",
    "        self.access_token = deezer_credentials['access_token']\n",
    "\n",
    "    def date_limit(self, interval: Literal['days', 'weeks', 'month'] = 'days', period: int = 1, start_date: str | None = None, end_date: str | None = None):\n",
    "\n",
    "        self.interval = interval\n",
    "        self.period = period\n",
    "        self.start_date = start_date\n",
    "        self.end_date = end_date\n",
    "\n",
    "        kwargs_relativedelta = {interval: period}\n",
    "        diff_dt = relativedelta(**kwargs_relativedelta)\n",
    "\n",
    "        if start_date is None and end_date is None:\n",
    "            return self.process_date - diff_dt, self.process_date\n",
    "        elif start_date is not None and end_date is None:\n",
    "            return parser.parse(start_date) + diff_dt, self.process_date\n",
    "        elif start_date is None and end_date is not None:\n",
    "            return parser.parse('2000-01-01'), parser.parse(end_date) - diff_dt\n",
    "        elif start_date is not None and end_date is not None:\n",
    "            if start_date <= end_date:\n",
    "                return parser.parse(start_date), parser.parse(end_date)\n",
    "            else:\n",
    "                print('Data inicial maior que a data final, filtro padrão será aplicado')\n",
    "                return self.process_date - diff_dt, self.process_date\n",
    "            \n",
    "    def _filter_date(self, page_data: list):\n",
    "\n",
    "        lower_limit, upper_limit = self.date_limit()\n",
    "\n",
    "        return [*filter(lambda x: datetime.fromtimestamp(x['timestamp']) >= lower_limit \n",
    "                                  and datetime.fromtimestamp(x['timestamp']) <= upper_limit, \n",
    "                        page_data)]\n",
    "    \n",
    "    def _add_data(self, page_data: list):\n",
    "        return [*map(lambda x: {**x, **{'chart': next(self.chart_id), 'timestamp': int(self.process_date.timestamp())}}, page_data)]\n",
    "    \n",
    "    def _process_payload(self, payload: list):\n",
    "        if self.endpoint == 'history':\n",
    "            return self._filter_date(page_data=payload.get('data'))\n",
    "        elif self.endpoint == 'charts':\n",
    "            return self._add_data(page_data=payload.get('data'))\n",
    "        else:\n",
    "            return payload.get('data')\n",
    "\n",
    "    def _fetch_page(self, next_page: str | None = None):\n",
    "\n",
    "        if next_page is None:\n",
    "            api_url = f'https://api.deezer.com/user/{self.user_id}/{self.endpoint}'\n",
    "            response = requests.get(\n",
    "                api_url, \n",
    "                params = {'access_token': self.access_token})\n",
    "        else:\n",
    "            response = requests.get(next_page)\n",
    "\n",
    "        payload = response.json()\n",
    "\n",
    "        return payload\n",
    "    \n",
    "    def _fetch_endpoint(self, next_page: str | None = None):\n",
    "\n",
    "        payload = self._fetch_page(next_page=next_page)\n",
    "        payload_processed = self._process_payload(payload=payload)\n",
    "\n",
    "        yield from payload_processed\n",
    "\n",
    "        next_page = payload.get('next')\n",
    "\n",
    "        if next_page:\n",
    "            yield from self._fetch_endpoint(next_page)\n",
    "    \n",
    "    def endpoint_data(self) -> list:\n",
    "\n",
    "        return [page_data for page_data in self._fetch_endpoint()]\n",
    "    \n",
    "    def summarize(self, data: list | None = None) -> pyspark_df:\n",
    "        if data is None:\n",
    "            data = self.endpoint_data()\n",
    "\n",
    "        json_strings = [*map(lambda x: json.dumps(x), data)]\n",
    "        dataRDD = spark.sparkContext.parallelize(json_strings)\n",
    "            \n",
    "        return spark.read.json(dataRDD)\n",
    "    \n",
    "    def save(self, sdf: pyspark_df | None = None, file_path: str = 'datalake/deezer/user', file_format: str = 'parquet') -> None:\n",
    "        file_path = f'{file_path}/{self.endpoint}/{file_format}'\n",
    "        file_suffix = self.process_date.strftime('%Y_%m_%d_%H_%M_%S')\n",
    "        file_name = f'user_{self.endpoint}_{file_suffix}.{file_format}'\n",
    "\n",
    "        if sdf is None:\n",
    "            sdf = self.summarize()\n",
    "\n",
    "        (\n",
    "            sdf\n",
    "            .coalesce(1)\n",
    "            .write\n",
    "            .format(file_format)\n",
    "            .mode('overwrite')\n",
    "            .option(\"overwriteSchema\", \"true\")\n",
    "            .save(f'dbfs:/{file_path}/{file_name}')\n",
    "        )\n",
    "\n",
    "        # the read must have the option recursiseFileLookup as true because a name for the parquet file was set\n",
    "        # (\n",
    "        #     spark\n",
    "        #     .read\n",
    "        #     .format('parquet')\n",
    "        #     .option(\"recursiveFileLookup\",\"true\")\n",
    "        #     .load('dbfs:/{file_path}')\n",
    "        # )\n",
    "\n",
    "        # Another option is use the mode = 'append' and not specify the a file_name\n",
    "        # (\n",
    "        #     sdf\n",
    "        #     .coalesce(1)\n",
    "        #     .write\n",
    "        #     .format(file_format)\n",
    "        #     .mode('append')\n",
    "        #     .option(\"overwriteSchema\", \"true\")\n",
    "        #     .save(f'dbfs:/{file_path}')\n",
    "        # )\n",
    "\n",
    "        # so the read can be the following \n",
    "        # (\n",
    "        #     spark\n",
    "        #     .read\n",
    "        #     .format('parquet')\n",
    "        #     .load('dbfs:/{file_path}')\n",
    "        # )"
   ]
  },
  {
   "cell_type": "code",
   "execution_count": null,
   "metadata": {
    "application/vnd.databricks.v1+cell": {
     "cellMetadata": {
      "byteLimit": 2048000,
      "rowLimit": 10000
     },
     "inputWidgets": {},
     "nuid": "8c9e942d-37ff-4eff-b43b-3b1f7a1695d1",
     "showTitle": true,
     "title": "Setup"
    }
   },
   "outputs": [],
   "source": [
    "dbfs_path = 'dbfs:/datalake/deezer/deezer_credentials.json' \n",
    "local_path = f'file:/tmp/datalake/deezer/{dbfs_path.split(\"/\")[-1]}'\n",
    "dbutils.fs.cp(dbfs_path, local_path)\n",
    "\n",
    "endpoint = 'charts'"
   ]
  },
  {
   "cell_type": "code",
   "execution_count": null,
   "metadata": {
    "application/vnd.databricks.v1+cell": {
     "cellMetadata": {
      "byteLimit": 2048000,
      "rowLimit": 10000
     },
     "inputWidgets": {},
     "nuid": "35933981-7d8a-4fc7-849a-57f73658d636",
     "showTitle": true,
     "title": "Files before the script"
    }
   },
   "outputs": [
    {
     "data": {
      "text/plain": [
       "[FileInfo(path='dbfs:/datalake/deezer/user/charts/parquet/user_charts_2023_09_29_02_29_58.parquet/', name='user_charts_2023_09_29_02_29_58.parquet/', size=0, modificationTime=0)]"
      ]
     },
     "execution_count": 8,
     "metadata": {},
     "output_type": "execute_result"
    }
   ],
   "source": [
    "dbutils.fs.ls(f'dbfs:/datalake/deezer/user/{endpoint}/parquet')"
   ]
  },
  {
   "cell_type": "code",
   "execution_count": null,
   "metadata": {
    "application/vnd.databricks.v1+cell": {
     "cellMetadata": {
      "byteLimit": 2048000,
      "rowLimit": 10000
     },
     "inputWidgets": {},
     "nuid": "ea14dbff-d43f-48f8-a968-09d286f3ada9",
     "showTitle": false,
     "title": ""
    }
   },
   "outputs": [],
   "source": [
    "# dbutils.fs.rm(f'dbfs:/datalake/deezer/user/{endpoint}/parquet/', recurse=True)"
   ]
  },
  {
   "cell_type": "code",
   "execution_count": null,
   "metadata": {
    "application/vnd.databricks.v1+cell": {
     "cellMetadata": {
      "byteLimit": 2048000,
      "rowLimit": 10000
     },
     "inputWidgets": {},
     "nuid": "4114bc5b-2a64-40af-85ec-271da76f49f2",
     "showTitle": true,
     "title": "Running the script"
    }
   },
   "outputs": [],
   "source": [
    "endpoints = ['history', 'charts']\n",
    "# opção para automatização\n",
    "# endpoints = dbutils.widgets.get(\"endpoints\")\n",
    "\n",
    "for endpoint in endpoints:\n",
    "    nb_bf_running = dbutils.fs.ls(f'dbfs:/datalake/deezer/user/{endpoint}/parquet/')\n",
    "    print(f'Number of files for {endpoint} endpoint before script: {len(nb_bf_running)}')\n",
    "    \n",
    "    info = ExtractInfo(\n",
    "        endpoint=endpoint,\n",
    "        )\n",
    "    info.save()\n",
    "\n",
    "    nb_af_running = dbutils.fs.ls(f'dbfs:/datalake/deezer/user/{endpoint}/parquet/')\n",
    "    print(f'Number of files for {endpoint} endpoint after script: {len(nb_af_running)}')"
   ]
  },
  {
   "cell_type": "code",
   "execution_count": null,
   "metadata": {
    "application/vnd.databricks.v1+cell": {
     "cellMetadata": {
      "byteLimit": 2048000,
      "rowLimit": 10000
     },
     "inputWidgets": {},
     "nuid": "a5863e35-0366-4241-9653-428a30a306b7",
     "showTitle": true,
     "title": "Checking new file"
    }
   },
   "outputs": [
    {
     "data": {
      "text/plain": [
       "[FileInfo(path='dbfs:/datalake/deezer/user/charts/parquet/user_charts_2023_09_29_02_29_58.parquet/', name='user_charts_2023_09_29_02_29_58.parquet/', size=0, modificationTime=0),\n",
       " FileInfo(path='dbfs:/datalake/deezer/user/charts/parquet/user_charts_2023_09_29_03_54_45.parquet/', name='user_charts_2023_09_29_03_54_45.parquet/', size=0, modificationTime=0)]"
      ]
     },
     "execution_count": 21,
     "metadata": {},
     "output_type": "execute_result"
    }
   ],
   "source": [
    "# dbutils.fs.ls(f'dbfs:/datalake/deezer/user/{endpoint}/parquet/')"
   ]
  },
  {
   "cell_type": "code",
   "execution_count": null,
   "metadata": {
    "application/vnd.databricks.v1+cell": {
     "cellMetadata": {
      "byteLimit": 2048000,
      "rowLimit": 10000
     },
     "inputWidgets": {},
     "nuid": "32f7a1f6-f745-4002-912e-b8261c2d4cf4",
     "showTitle": true,
     "title": "Checking data"
    }
   },
   "outputs": [
    {
     "data": {
      "text/html": [
       "<style scoped>\n",
       "  .table-result-container {\n",
       "    max-height: 300px;\n",
       "    overflow: auto;\n",
       "  }\n",
       "  table, th, td {\n",
       "    border: 1px solid black;\n",
       "    border-collapse: collapse;\n",
       "  }\n",
       "  th, td {\n",
       "    padding: 5px;\n",
       "  }\n",
       "  th {\n",
       "    text-align: left;\n",
       "  }\n",
       "</style><div class='table-result-container'><table class='table-result'><thead style='background-color: white'><tr><th>title</th><th>title</th><th>name</th><th>chart</th><th>r_number</th></tr></thead><tbody><tr><td>Home</td><td>Barbie The Album</td><td>HAIM</td><td>1</td><td>1</td></tr><tr><td>Seasons</td><td>It’s The End Of The World But It’s A Beautiful Day</td><td>Thirty Seconds to Mars</td><td>2</td><td>1</td></tr><tr><td>Ahay</td><td>FEVER DREAM</td><td>Of Monsters And Men</td><td>3</td><td>1</td></tr><tr><td>Get Up Kid</td><td>It’s The End Of The World But It’s A Beautiful Day</td><td>Thirty Seconds to Mars</td><td>4</td><td>1</td></tr><tr><td>Stuck</td><td>It’s The End Of The World But It’s A Beautiful Day</td><td>Thirty Seconds to Mars</td><td>5</td><td>1</td></tr><tr><td>Life Is Beautiful</td><td>It’s The End Of The World But It’s A Beautiful Day</td><td>Thirty Seconds to Mars</td><td>6</td><td>1</td></tr><tr><td>Down</td><td>22 Break</td><td>Oh Wonder</td><td>7</td><td>1</td></tr><tr><td>22 Break</td><td>22 Break</td><td>Oh Wonder</td><td>8</td><td>1</td></tr><tr><td>Free</td><td>22 Break</td><td>Oh Wonder</td><td>9</td><td>1</td></tr><tr><td>Baby</td><td>22 Break</td><td>Oh Wonder</td><td>10</td><td>1</td></tr><tr><td>Seasons</td><td>Seasons</td><td>Thirty Seconds to Mars</td><td>11</td><td>1</td></tr><tr><td>Can We Always Be Friends?</td><td>22 Make</td><td>Oh Wonder</td><td>12</td><td>1</td></tr><tr><td>Get Up Kid</td><td>Get Up Kid</td><td>Thirty Seconds to Mars</td><td>13</td><td>1</td></tr><tr><td>22 Make</td><td>22 Make</td><td>Oh Wonder</td><td>14</td><td>1</td></tr><tr><td>Twenty Fourteen</td><td>22 Break</td><td>Oh Wonder</td><td>15</td><td>1</td></tr><tr><td>Love Me Now</td><td>22 Break</td><td>Oh Wonder</td><td>16</td><td>1</td></tr><tr><td>Keep On Dancing</td><td>Home Tapes</td><td>Oh Wonder</td><td>17</td><td>1</td></tr><tr><td>You > Me</td><td>22 Break</td><td>Oh Wonder</td><td>18</td><td>1</td></tr><tr><td>Kicking The Doors Down</td><td>22 Break</td><td>Oh Wonder</td><td>19</td><td>1</td></tr><tr><td>Lonely Star</td><td>Home Tapes</td><td>Oh Wonder</td><td>20</td><td>1</td></tr><tr><td>The Greatest</td><td>The Greatest</td><td>Tones and I</td><td>21</td><td>1</td></tr><tr><td>Magnificent</td><td>22 Make</td><td>Oh Wonder</td><td>22</td><td>1</td></tr><tr><td>Chemical</td><td>AUSTIN (Bonus)</td><td>Post Malone</td><td>23</td><td>1</td></tr><tr><td>Neon Lights (Rock Version)</td><td>REVAMPED</td><td>Demi Lovato</td><td>24</td><td>1</td></tr><tr><td>Skyscraper (Rock Version)</td><td>REVAMPED</td><td>Demi Lovato</td><td>25</td><td>1</td></tr><tr><td>Tell Me You Love Me (Rock Version)</td><td>REVAMPED</td><td>Demi Lovato</td><td>26</td><td>1</td></tr><tr><td>Let Me Go (feat. Chad Kroeger)</td><td>Avril Lavigne (Expanded Edition)</td><td>Avril Lavigne</td><td>27</td><td>1</td></tr><tr><td>World On Fire</td><td>It’s The End Of The World But It’s A Beautiful Day</td><td>Thirty Seconds to Mars</td><td>28</td><td>1</td></tr><tr><td>Love These Days</td><td>It’s The End Of The World But It’s A Beautiful Day</td><td>Thirty Seconds to Mars</td><td>29</td><td>1</td></tr><tr><td>7:1</td><td>It’s The End Of The World But It’s A Beautiful Day</td><td>Thirty Seconds to Mars</td><td>30</td><td>1</td></tr><tr><td>True Romance</td><td>22 Make</td><td>Oh Wonder</td><td>31</td><td>1</td></tr><tr><td>Padam Padam</td><td>Padam Padam</td><td>Kylie Minogue</td><td>32</td><td>1</td></tr><tr><td>The Silence</td><td>All This Bad Blood</td><td>Bastille</td><td>33</td><td>1</td></tr><tr><td>Barbie World (with Aqua)</td><td>Barbie The Album</td><td>Nicki Minaj</td><td>34</td><td>1</td></tr><tr><td>Two Pieces</td><td>Demi (Deluxe)</td><td>Demi Lovato</td><td>35</td><td>1</td></tr><tr><td>Better Version</td><td>Girl Of My Dreams (Deluxe)</td><td>FLETCHER</td><td>36</td><td>1</td></tr><tr><td>Love Song</td><td>Love Lines</td><td>LP</td><td>37</td><td>1</td></tr><tr><td>2 Die 4</td><td>Like A Dream</td><td>Addison Rae</td><td>38</td><td>1</td></tr><tr><td>vampire</td><td>GUTS</td><td>Olivia Rodrigo</td><td>39</td><td>1</td></tr><tr><td>Avalanche</td><td>It’s The End Of The World But It’s A Beautiful Day</td><td>Thirty Seconds to Mars</td><td>40</td><td>1</td></tr><tr><td>Gimme Love</td><td>Gimme Love</td><td>Sia</td><td>41</td><td>1</td></tr><tr><td>Lost These Days</td><td>It’s The End Of The World But It’s A Beautiful Day</td><td>Thirty Seconds to Mars</td><td>42</td><td>1</td></tr><tr><td>Apollo</td><td>22 Make</td><td>Oh Wonder</td><td>43</td><td>1</td></tr><tr><td>South of the Border (feat. Camila Cabello & Cardi B)</td><td>No.6 Collaborations Project</td><td>Ed Sheeran</td><td>44</td><td>1</td></tr><tr><td>logical</td><td>GUTS</td><td>Olivia Rodrigo</td><td>45</td><td>1</td></tr><tr><td>Curtains</td><td>- (Deluxe)</td><td>Ed Sheeran</td><td>46</td><td>1</td></tr><tr><td>Monster</td><td>Smoke + Mirrors (Deluxe)</td><td>Imagine Dragons</td><td>47</td><td>1</td></tr><tr><td>Whippin (feat. Felix Snow)</td><td>lil kiiwi (Deluxe)</td><td>Kiiara</td><td>48</td><td>1</td></tr><tr><td>Children of the Sky (a Starfield song)</td><td>Children of the Sky (a Starfield song)</td><td>Imagine Dragons</td><td>49</td><td>1</td></tr><tr><td>Eyes Closed</td><td>Eyes Closed</td><td>Ed Sheeran</td><td>50</td><td>1</td></tr><tr><td>Middle Ground</td><td>Middle Ground</td><td>Maroon 5</td><td>51</td><td>1</td></tr><tr><td>All I Want</td><td>In A Perfect World (Expanded Edition)</td><td>Kodaline</td><td>52</td><td>1</td></tr><tr><td>All We Do</td><td>Oh Wonder</td><td>Oh Wonder</td><td>53</td><td>1</td></tr><tr><td>Benson Hedges</td><td>Aim and Ignite (Deluxe Version)</td><td>fun.</td><td>54</td><td>1</td></tr><tr><td>The Sharing Song</td><td>Jack Johnson And Friends: Sing-A-Longs And Lullabies For The Film Curious George</td><td>Jack Johnson</td><td>55</td><td>1</td></tr><tr><td>I Wish I Never Met You</td><td>No One Else Can Wear Your Crown (Deluxe)</td><td>Oh Wonder</td><td>56</td><td>1</td></tr><tr><td>Confident (Rock Version)</td><td>REVAMPED</td><td>Demi Lovato</td><td>57</td><td>1</td></tr><tr><td>Throwback Love</td><td>The Love Train</td><td>Meghan Trainor</td><td>58</td><td>1</td></tr><tr><td>The Unknown</td><td>Smoke + Mirrors (Deluxe)</td><td>Imagine Dragons</td><td>59</td><td>1</td></tr><tr><td>What Lovers Do</td><td>Red Pill Blues (Deluxe)</td><td>Maroon 5</td><td>60</td><td>1</td></tr><tr><td>Everything Back But You</td><td>The Best Damn Thing (Expanded Edition)</td><td>Avril Lavigne</td><td>61</td><td>1</td></tr><tr><td>Anti-Hero</td><td>Midnights</td><td>Taylor Swift</td><td>62</td><td>1</td></tr><tr><td>Messy</td><td>lil kiiwi (Deluxe)</td><td>Kiiara</td><td>63</td><td>1</td></tr><tr><td>My Mind & Me</td><td>My Mind & Me</td><td>Selena Gomez</td><td>64</td><td>1</td></tr><tr><td>Upside Down</td><td>Jack Johnson And Friends: Sing-A-Longs And Lullabies For The Film Curious George</td><td>Jack Johnson</td><td>65</td><td>1</td></tr><tr><td>bad idea right?</td><td>GUTS</td><td>Olivia Rodrigo</td><td>66</td><td>1</td></tr><tr><td>Heart Hope</td><td>Oh Wonder</td><td>Oh Wonder</td><td>67</td><td>1</td></tr><tr><td>all-american bitch</td><td>GUTS</td><td>Olivia Rodrigo</td><td>68</td><td>1</td></tr><tr><td>Used To Be Young</td><td>Used To Be Young</td><td>Miley Cyrus</td><td>69</td><td>1</td></tr><tr><td>Single Soon</td><td>Single Soon</td><td>Selena Gomez</td><td>70</td><td>1</td></tr><tr><td>Uncover</td><td>Uncover</td><td>Zara Larsson</td><td>71</td><td>1</td></tr><tr><td>Queens</td><td>Our Own House</td><td>MisterWives</td><td>72</td><td>1</td></tr><tr><td>Jaded</td><td>Endless Summer Vacation</td><td>Miley Cyrus</td><td>73</td><td>1</td></tr><tr><td>I'm with You</td><td>Let Go</td><td>Avril Lavigne</td><td>74</td><td>1</td></tr><tr><td>Start Me Up (Remastered 2009)</td><td>Tattoo You (2009 Re-Mastered)</td><td>The Rolling Stones</td><td>75</td><td>1</td></tr><tr><td>You Can't Always Get What You Want (Remastered 2019)</td><td>Let It Bleed (50th Anniversary Edition / Remastered 2019)</td><td>The Rolling Stones</td><td>76</td><td>1</td></tr><tr><td>Man I Am</td><td>Barbie The Album</td><td>Sam Smith</td><td>77</td><td>1</td></tr><tr><td>Don't Forget (Rock Version)</td><td>REVAMPED</td><td>Demi Lovato</td><td>78</td><td>1</td></tr><tr><td>La La Land (Rock Version)</td><td>REVAMPED</td><td>Demi Lovato</td><td>79</td><td>1</td></tr><tr><td>Give Your Heart A Break (Rock Version)</td><td>REVAMPED</td><td>Demi Lovato</td><td>80</td><td>1</td></tr><tr><td>MORE THAN YOU KNOW</td><td>ONE MORE TIME / MORE THAN YOU KNOW</td><td>blink-182</td><td>81</td><td>1</td></tr><tr><td>Caught in the Middle</td><td>After Laughter</td><td>Paramore</td><td>82</td><td>1</td></tr><tr><td>I Won't</td><td>I Won't</td><td>AJR</td><td>83</td><td>1</td></tr><tr><td>Domesticated Animals</td><td>Villains</td><td>Queens of the Stone Age</td><td>84</td><td>1</td></tr><tr><td>Good Old Days (feat. Kesha)</td><td>GEMINI</td><td>Macklemore</td><td>85</td><td>1</td></tr><tr><td>Happy</td><td>No One Else Can Wear Your Crown (Deluxe)</td><td>Oh Wonder</td><td>86</td><td>1</td></tr><tr><td>As It Was</td><td>As It Was</td><td>Harry Styles</td><td>87</td><td>1</td></tr><tr><td>Death's Song</td><td>The Hurry and the Harm</td><td>City and Colour</td><td>88</td><td>1</td></tr><tr><td>Solo</td><td>Dedicated Side B</td><td>Carly Rae Jepsen</td><td>89</td><td>1</td></tr><tr><td>Socialite</td><td>AUSTIN (Bonus)</td><td>Post Malone</td><td>90</td><td>1</td></tr><tr><td>Wrecking Ball</td><td>Bangerz (Deluxe Version)</td><td>Miley Cyrus</td><td>91</td><td>1</td></tr><tr><td>No One Dies From Love</td><td>Dirt Femme (Extended Cut)</td><td>Tove Lo</td><td>92</td><td>1</td></tr><tr><td>Ghost</td><td>Justice</td><td>Justin Bieber</td><td>93</td><td>1</td></tr><tr><td>Drunk On You (Acoustic)</td><td>No One Else Can Wear Your Crown (Deluxe)</td><td>Oh Wonder</td><td>94</td><td>1</td></tr><tr><td>Middle Ground</td><td>Middle Ground</td><td>Maroon 5</td><td>95</td><td>1</td></tr><tr><td>My Sacrifice</td><td>Weathered</td><td>Creed</td><td>96</td><td>1</td></tr><tr><td>If I Were You</td><td>Lay Your Hands Upon My Heart</td><td>Rosa Linn</td><td>97</td><td>1</td></tr><tr><td>You’re Not Alone</td><td>Mobile Orchestra</td><td>Owl City</td><td>98</td><td>1</td></tr><tr><td>Late Night Talking</td><td>Harry's House</td><td>Harry Styles</td><td>99</td><td>1</td></tr><tr><td>Secret Love Song (feat. Jason Derulo)</td><td>Get Weird (Expanded Edition)</td><td>Little Mix</td><td>100</td><td>1</td></tr></tbody></table></div>"
      ]
     },
     "metadata": {
      "application/vnd.databricks.v1+output": {
       "addedWidgets": {},
       "aggData": [],
       "aggError": "",
       "aggOverflow": false,
       "aggSchema": [],
       "aggSeriesLimitReached": false,
       "aggType": "",
       "arguments": {},
       "columnCustomDisplayInfos": {},
       "data": [
        [
         "Home",
         "Barbie The Album",
         "HAIM",
         1,
         1
        ],
        [
         "Seasons",
         "It’s The End Of The World But It’s A Beautiful Day",
         "Thirty Seconds to Mars",
         2,
         1
        ],
        [
         "Ahay",
         "FEVER DREAM",
         "Of Monsters And Men",
         3,
         1
        ],
        [
         "Get Up Kid",
         "It’s The End Of The World But It’s A Beautiful Day",
         "Thirty Seconds to Mars",
         4,
         1
        ],
        [
         "Stuck",
         "It’s The End Of The World But It’s A Beautiful Day",
         "Thirty Seconds to Mars",
         5,
         1
        ],
        [
         "Life Is Beautiful",
         "It’s The End Of The World But It’s A Beautiful Day",
         "Thirty Seconds to Mars",
         6,
         1
        ],
        [
         "Down",
         "22 Break",
         "Oh Wonder",
         7,
         1
        ],
        [
         "22 Break",
         "22 Break",
         "Oh Wonder",
         8,
         1
        ],
        [
         "Free",
         "22 Break",
         "Oh Wonder",
         9,
         1
        ],
        [
         "Baby",
         "22 Break",
         "Oh Wonder",
         10,
         1
        ],
        [
         "Seasons",
         "Seasons",
         "Thirty Seconds to Mars",
         11,
         1
        ],
        [
         "Can We Always Be Friends?",
         "22 Make",
         "Oh Wonder",
         12,
         1
        ],
        [
         "Get Up Kid",
         "Get Up Kid",
         "Thirty Seconds to Mars",
         13,
         1
        ],
        [
         "22 Make",
         "22 Make",
         "Oh Wonder",
         14,
         1
        ],
        [
         "Twenty Fourteen",
         "22 Break",
         "Oh Wonder",
         15,
         1
        ],
        [
         "Love Me Now",
         "22 Break",
         "Oh Wonder",
         16,
         1
        ],
        [
         "Keep On Dancing",
         "Home Tapes",
         "Oh Wonder",
         17,
         1
        ],
        [
         "You > Me",
         "22 Break",
         "Oh Wonder",
         18,
         1
        ],
        [
         "Kicking The Doors Down",
         "22 Break",
         "Oh Wonder",
         19,
         1
        ],
        [
         "Lonely Star",
         "Home Tapes",
         "Oh Wonder",
         20,
         1
        ],
        [
         "The Greatest",
         "The Greatest",
         "Tones and I",
         21,
         1
        ],
        [
         "Magnificent",
         "22 Make",
         "Oh Wonder",
         22,
         1
        ],
        [
         "Chemical",
         "AUSTIN (Bonus)",
         "Post Malone",
         23,
         1
        ],
        [
         "Neon Lights (Rock Version)",
         "REVAMPED",
         "Demi Lovato",
         24,
         1
        ],
        [
         "Skyscraper (Rock Version)",
         "REVAMPED",
         "Demi Lovato",
         25,
         1
        ],
        [
         "Tell Me You Love Me (Rock Version)",
         "REVAMPED",
         "Demi Lovato",
         26,
         1
        ],
        [
         "Let Me Go (feat. Chad Kroeger)",
         "Avril Lavigne (Expanded Edition)",
         "Avril Lavigne",
         27,
         1
        ],
        [
         "World On Fire",
         "It’s The End Of The World But It’s A Beautiful Day",
         "Thirty Seconds to Mars",
         28,
         1
        ],
        [
         "Love These Days",
         "It’s The End Of The World But It’s A Beautiful Day",
         "Thirty Seconds to Mars",
         29,
         1
        ],
        [
         "7:1",
         "It’s The End Of The World But It’s A Beautiful Day",
         "Thirty Seconds to Mars",
         30,
         1
        ],
        [
         "True Romance",
         "22 Make",
         "Oh Wonder",
         31,
         1
        ],
        [
         "Padam Padam",
         "Padam Padam",
         "Kylie Minogue",
         32,
         1
        ],
        [
         "The Silence",
         "All This Bad Blood",
         "Bastille",
         33,
         1
        ],
        [
         "Barbie World (with Aqua)",
         "Barbie The Album",
         "Nicki Minaj",
         34,
         1
        ],
        [
         "Two Pieces",
         "Demi (Deluxe)",
         "Demi Lovato",
         35,
         1
        ],
        [
         "Better Version",
         "Girl Of My Dreams (Deluxe)",
         "FLETCHER",
         36,
         1
        ],
        [
         "Love Song",
         "Love Lines",
         "LP",
         37,
         1
        ],
        [
         "2 Die 4",
         "Like A Dream",
         "Addison Rae",
         38,
         1
        ],
        [
         "vampire",
         "GUTS",
         "Olivia Rodrigo",
         39,
         1
        ],
        [
         "Avalanche",
         "It’s The End Of The World But It’s A Beautiful Day",
         "Thirty Seconds to Mars",
         40,
         1
        ],
        [
         "Gimme Love",
         "Gimme Love",
         "Sia",
         41,
         1
        ],
        [
         "Lost These Days",
         "It’s The End Of The World But It’s A Beautiful Day",
         "Thirty Seconds to Mars",
         42,
         1
        ],
        [
         "Apollo",
         "22 Make",
         "Oh Wonder",
         43,
         1
        ],
        [
         "South of the Border (feat. Camila Cabello & Cardi B)",
         "No.6 Collaborations Project",
         "Ed Sheeran",
         44,
         1
        ],
        [
         "logical",
         "GUTS",
         "Olivia Rodrigo",
         45,
         1
        ],
        [
         "Curtains",
         "- (Deluxe)",
         "Ed Sheeran",
         46,
         1
        ],
        [
         "Monster",
         "Smoke + Mirrors (Deluxe)",
         "Imagine Dragons",
         47,
         1
        ],
        [
         "Whippin (feat. Felix Snow)",
         "lil kiiwi (Deluxe)",
         "Kiiara",
         48,
         1
        ],
        [
         "Children of the Sky (a Starfield song)",
         "Children of the Sky (a Starfield song)",
         "Imagine Dragons",
         49,
         1
        ],
        [
         "Eyes Closed",
         "Eyes Closed",
         "Ed Sheeran",
         50,
         1
        ],
        [
         "Middle Ground",
         "Middle Ground",
         "Maroon 5",
         51,
         1
        ],
        [
         "All I Want",
         "In A Perfect World (Expanded Edition)",
         "Kodaline",
         52,
         1
        ],
        [
         "All We Do",
         "Oh Wonder",
         "Oh Wonder",
         53,
         1
        ],
        [
         "Benson Hedges",
         "Aim and Ignite (Deluxe Version)",
         "fun.",
         54,
         1
        ],
        [
         "The Sharing Song",
         "Jack Johnson And Friends: Sing-A-Longs And Lullabies For The Film Curious George",
         "Jack Johnson",
         55,
         1
        ],
        [
         "I Wish I Never Met You",
         "No One Else Can Wear Your Crown (Deluxe)",
         "Oh Wonder",
         56,
         1
        ],
        [
         "Confident (Rock Version)",
         "REVAMPED",
         "Demi Lovato",
         57,
         1
        ],
        [
         "Throwback Love",
         "The Love Train",
         "Meghan Trainor",
         58,
         1
        ],
        [
         "The Unknown",
         "Smoke + Mirrors (Deluxe)",
         "Imagine Dragons",
         59,
         1
        ],
        [
         "What Lovers Do",
         "Red Pill Blues (Deluxe)",
         "Maroon 5",
         60,
         1
        ],
        [
         "Everything Back But You",
         "The Best Damn Thing (Expanded Edition)",
         "Avril Lavigne",
         61,
         1
        ],
        [
         "Anti-Hero",
         "Midnights",
         "Taylor Swift",
         62,
         1
        ],
        [
         "Messy",
         "lil kiiwi (Deluxe)",
         "Kiiara",
         63,
         1
        ],
        [
         "My Mind & Me",
         "My Mind & Me",
         "Selena Gomez",
         64,
         1
        ],
        [
         "Upside Down",
         "Jack Johnson And Friends: Sing-A-Longs And Lullabies For The Film Curious George",
         "Jack Johnson",
         65,
         1
        ],
        [
         "bad idea right?",
         "GUTS",
         "Olivia Rodrigo",
         66,
         1
        ],
        [
         "Heart Hope",
         "Oh Wonder",
         "Oh Wonder",
         67,
         1
        ],
        [
         "all-american bitch",
         "GUTS",
         "Olivia Rodrigo",
         68,
         1
        ],
        [
         "Used To Be Young",
         "Used To Be Young",
         "Miley Cyrus",
         69,
         1
        ],
        [
         "Single Soon",
         "Single Soon",
         "Selena Gomez",
         70,
         1
        ],
        [
         "Uncover",
         "Uncover",
         "Zara Larsson",
         71,
         1
        ],
        [
         "Queens",
         "Our Own House",
         "MisterWives",
         72,
         1
        ],
        [
         "Jaded",
         "Endless Summer Vacation",
         "Miley Cyrus",
         73,
         1
        ],
        [
         "I'm with You",
         "Let Go",
         "Avril Lavigne",
         74,
         1
        ],
        [
         "Start Me Up (Remastered 2009)",
         "Tattoo You (2009 Re-Mastered)",
         "The Rolling Stones",
         75,
         1
        ],
        [
         "You Can't Always Get What You Want (Remastered 2019)",
         "Let It Bleed (50th Anniversary Edition / Remastered 2019)",
         "The Rolling Stones",
         76,
         1
        ],
        [
         "Man I Am",
         "Barbie The Album",
         "Sam Smith",
         77,
         1
        ],
        [
         "Don't Forget (Rock Version)",
         "REVAMPED",
         "Demi Lovato",
         78,
         1
        ],
        [
         "La La Land (Rock Version)",
         "REVAMPED",
         "Demi Lovato",
         79,
         1
        ],
        [
         "Give Your Heart A Break (Rock Version)",
         "REVAMPED",
         "Demi Lovato",
         80,
         1
        ],
        [
         "MORE THAN YOU KNOW",
         "ONE MORE TIME / MORE THAN YOU KNOW",
         "blink-182",
         81,
         1
        ],
        [
         "Caught in the Middle",
         "After Laughter",
         "Paramore",
         82,
         1
        ],
        [
         "I Won't",
         "I Won't",
         "AJR",
         83,
         1
        ],
        [
         "Domesticated Animals",
         "Villains",
         "Queens of the Stone Age",
         84,
         1
        ],
        [
         "Good Old Days (feat. Kesha)",
         "GEMINI",
         "Macklemore",
         85,
         1
        ],
        [
         "Happy",
         "No One Else Can Wear Your Crown (Deluxe)",
         "Oh Wonder",
         86,
         1
        ],
        [
         "As It Was",
         "As It Was",
         "Harry Styles",
         87,
         1
        ],
        [
         "Death's Song",
         "The Hurry and the Harm",
         "City and Colour",
         88,
         1
        ],
        [
         "Solo",
         "Dedicated Side B",
         "Carly Rae Jepsen",
         89,
         1
        ],
        [
         "Socialite",
         "AUSTIN (Bonus)",
         "Post Malone",
         90,
         1
        ],
        [
         "Wrecking Ball",
         "Bangerz (Deluxe Version)",
         "Miley Cyrus",
         91,
         1
        ],
        [
         "No One Dies From Love",
         "Dirt Femme (Extended Cut)",
         "Tove Lo",
         92,
         1
        ],
        [
         "Ghost",
         "Justice",
         "Justin Bieber",
         93,
         1
        ],
        [
         "Drunk On You (Acoustic)",
         "No One Else Can Wear Your Crown (Deluxe)",
         "Oh Wonder",
         94,
         1
        ],
        [
         "Middle Ground",
         "Middle Ground",
         "Maroon 5",
         95,
         1
        ],
        [
         "My Sacrifice",
         "Weathered",
         "Creed",
         96,
         1
        ],
        [
         "If I Were You",
         "Lay Your Hands Upon My Heart",
         "Rosa Linn",
         97,
         1
        ],
        [
         "You’re Not Alone",
         "Mobile Orchestra",
         "Owl City",
         98,
         1
        ],
        [
         "Late Night Talking",
         "Harry's House",
         "Harry Styles",
         99,
         1
        ],
        [
         "Secret Love Song (feat. Jason Derulo)",
         "Get Weird (Expanded Edition)",
         "Little Mix",
         100,
         1
        ]
       ],
       "datasetInfos": [],
       "dbfsResultPath": null,
       "isJsonSchema": true,
       "metadata": {},
       "overflow": false,
       "plotOptions": {
        "customPlotOptions": {},
        "displayType": "table",
        "pivotAggregation": null,
        "pivotColumns": null,
        "xColumns": null,
        "yColumns": null
       },
       "removedWidgets": [],
       "schema": [
        {
         "metadata": "{}",
         "name": "title",
         "type": "\"string\""
        },
        {
         "metadata": "{}",
         "name": "title",
         "type": "\"string\""
        },
        {
         "metadata": "{}",
         "name": "name",
         "type": "\"string\""
        },
        {
         "metadata": "{}",
         "name": "chart",
         "type": "\"long\""
        },
        {
         "metadata": "{}",
         "name": "r_number",
         "type": "\"integer\""
        }
       ],
       "type": "table"
      }
     },
     "output_type": "display_data"
    }
   ],
   "source": [
    "# reader = (\n",
    "#     spark\n",
    "#     .read\n",
    "#     .format('parquet')\n",
    "#     .option(\"recursiveFileLookup\",\"true\")\n",
    "#     )\n",
    "# \n",
    "# path_charts_files = f'/datalake/deezer/user/{endpoint}/parquet/'\n",
    "# \n",
    "# sdf = reader.load(f'{path_charts_files}')\n",
    "# sdf.createOrReplaceTempView(f'temp_df_{endpoint}')\n",
    "# \n",
    "# config_sql = {\n",
    "#     'history': {\n",
    "#         'id_fields': ['`timestamp`'],\n",
    "#         'order_by': '`timestamp` desc'\n",
    "#     },\n",
    "#     'charts': {\n",
    "#         'id_fields': ['id', 'chart'],\n",
    "#         'order_by': 'chart asc, `timestamp` desc'\n",
    "#     }\n",
    "# }\n",
    "# \n",
    "# ids = ','.join(config_sql[endpoint]['id_fields'])\n",
    "# order_by = config_sql[endpoint]['order_by']\n",
    "# (spark.sql(f'''\n",
    "#                SELECT \n",
    "#                 title, album.title, artist.name, chart,\n",
    "#                 row_number() OVER (PARTITION BY {ids} ORDER BY `timestamp` DESC) as r_number\n",
    "#                FROM temp_df_{endpoint}\n",
    "#                QUALIFY row_number() OVER (PARTITION BY {ids} ORDER BY `timestamp` DESC) = 1\n",
    "#                order by {order_by}\n",
    "#                ''')\n",
    "#  .display())"
   ]
  },
  {
   "cell_type": "code",
   "execution_count": null,
   "metadata": {
    "application/vnd.databricks.v1+cell": {
     "cellMetadata": {
      "byteLimit": 2048000,
      "rowLimit": 10000
     },
     "inputWidgets": {},
     "nuid": "ee9d3559-1db9-4645-ac11-6cb559c7577e",
     "showTitle": false,
     "title": ""
    }
   },
   "outputs": [
    {
     "data": {
      "text/plain": [
       "True"
      ]
     },
     "execution_count": 130,
     "metadata": {},
     "output_type": "execute_result"
    }
   ],
   "source": [
    "# to copy the whole folder you need to use recurse=True\n",
    "# dbutils.fs.cp('file:/dbfs/datalake/deezer/user/history/parquet', 'dbfs:/datalake/deezer/user/history/parquet', recurse=True)"
   ]
  }
 ],
 "metadata": {
  "application/vnd.databricks.v1+notebook": {
   "dashboards": [],
   "language": "python",
   "notebookMetadata": {
    "mostRecentlyExecutedCommandWithImplicitDF": {
     "commandId": 1957910915889280,
     "dataframes": [
      "_sqldf"
     ]
    },
    "pythonIndentUnit": 4
   },
   "notebookName": "deezer_extraction",
   "widgets": {}
  },
  "kernelspec": {
   "display_name": "deezer_api-venv",
   "language": "python",
   "name": "python3"
  },
  "language_info": {
   "codemirror_mode": {
    "name": "ipython",
    "version": 3
   },
   "file_extension": ".py",
   "mimetype": "text/x-python",
   "name": "python",
   "nbconvert_exporter": "python",
   "pygments_lexer": "ipython3",
   "version": "3.9.6"
  }
 },
 "nbformat": 4,
 "nbformat_minor": 0
}
